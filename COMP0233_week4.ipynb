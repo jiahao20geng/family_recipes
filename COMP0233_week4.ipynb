{
  "nbformat": 4,
  "nbformat_minor": 0,
  "metadata": {
    "colab": {
      "provenance": [],
      "collapsed_sections": [],
      "authorship_tag": "ABX9TyO12PafECqQtWBdL9C8DcEM",
      "include_colab_link": true
    },
    "kernelspec": {
      "name": "python3",
      "display_name": "Python 3"
    },
    "language_info": {
      "name": "python"
    }
  },
  "cells": [
    {
      "cell_type": "markdown",
      "metadata": {
        "id": "view-in-github",
        "colab_type": "text"
      },
      "source": [
        "<a href=\"https://colab.research.google.com/github/jiahao20geng/family_recipes/blob/main/COMP0233_week4.ipynb\" target=\"_parent\"><img src=\"https://colab.research.google.com/assets/colab-badge.svg\" alt=\"Open In Colab\"/></a>"
      ]
    },
    {
      "cell_type": "code",
      "execution_count": 1,
      "metadata": {
        "colab": {
          "base_uri": "https://localhost:8080/"
        },
        "id": "4Rs8xJQbNwRC",
        "outputId": "b4d7501f-15f8-4079-db1a-28b2949f4cc8"
      },
      "outputs": [
        {
          "output_type": "stream",
          "name": "stdout",
          "text": [
            "Writing mydata.txt\n"
          ]
        }
      ],
      "source": [
        "%%writefile mydata.txt  \n",
        "A poet once said, 'The whole universe is in a glass of wine.'\n",
        "We will probably never know in what sense he meant it, \n",
        "for poets do not write to be understood. \n",
        "But it is true that if we look at a glass of wine closely enough we see the entire universe. \n",
        "There are the things of physics: the twisting liquid which evaporates depending\n",
        "on the wind and weather, the reflection in the glass;\n",
        "and our imagination adds atoms.\n",
        "The glass is a distillation of the earth's rocks,\n",
        "and in its composition we see the secrets of the universe's age, and the evolution of stars. \n",
        "What strange array of chemicals are in the wine? How did they come to be? \n",
        "There are the ferments, the enzymes, the substrates, and the products.\n",
        "There in wine is found the great generalization; all life is fermentation.\n",
        "Nobody can discover the chemistry of wine without discovering, \n",
        "as did Louis Pasteur, the cause of much disease.\n",
        "How vivid is the claret, pressing its existence into the consciousness that watches it!\n",
        "If our small minds, for some convenience, divide this glass of wine, this universe, \n",
        "into parts -- \n",
        "physics, biology, geology, astronomy, psychology, and so on -- \n",
        "remember that nature does not know it!\n",
        "\n",
        "So let us put it all back together, not forgetting ultimately what it is for.\n",
        "Let it give us one more final pleasure; drink it and forget it all!\n",
        "   - Richard Feynman"
      ]
    },
    {
      "cell_type": "code",
      "source": [
        "import os # The 'os' module gives us all the tools we need to search in the file system\n",
        "os.getcwd() # Use the 'getcwd' function from the 'os' module to find where we are on disk."
      ],
      "metadata": {
        "colab": {
          "base_uri": "https://localhost:8080/",
          "height": 37
        },
        "id": "QIwiGaoEN5wp",
        "outputId": "8dd561b4-7aa0-4b81-8c6a-2f989950fe9f"
      },
      "execution_count": 2,
      "outputs": [
        {
          "output_type": "execute_result",
          "data": {
            "text/plain": [
              "'/content'"
            ],
            "application/vnd.google.colaboratory.intrinsic+json": {
              "type": "string"
            }
          },
          "metadata": {},
          "execution_count": 2
        }
      ]
    },
    {
      "cell_type": "code",
      "source": [
        "import os\n",
        "[x for x in os.listdir(os.getcwd()) if \".txt\" in x]"
      ],
      "metadata": {
        "colab": {
          "base_uri": "https://localhost:8080/"
        },
        "id": "vNV6cLNnN_NS",
        "outputId": "ee29133e-c2f1-492c-bdd1-253d13413219"
      },
      "execution_count": 3,
      "outputs": [
        {
          "output_type": "execute_result",
          "data": {
            "text/plain": [
              "['mydata.txt']"
            ]
          },
          "metadata": {},
          "execution_count": 3
        }
      ]
    },
    {
      "cell_type": "code",
      "source": [
        "os.path.dirname(os.getcwd())"
      ],
      "metadata": {
        "colab": {
          "base_uri": "https://localhost:8080/",
          "height": 37
        },
        "id": "kYK4cxLaRL-H",
        "outputId": "b46a281d-741e-4f28-83da-1d6ee451c96d"
      },
      "execution_count": 4,
      "outputs": [
        {
          "output_type": "execute_result",
          "data": {
            "text/plain": [
              "'/'"
            ],
            "application/vnd.google.colaboratory.intrinsic+json": {
              "type": "string"
            }
          },
          "metadata": {},
          "execution_count": 4
        }
      ]
    },
    {
      "cell_type": "code",
      "source": [
        "myfile = open('mydata.txt')"
      ],
      "metadata": {
        "id": "NF-nnf83RgPd"
      },
      "execution_count": 5,
      "outputs": []
    },
    {
      "cell_type": "code",
      "source": [
        "type(myfile)"
      ],
      "metadata": {
        "colab": {
          "base_uri": "https://localhost:8080/"
        },
        "id": "lJGVi0UUR1Ri",
        "outputId": "ea8fac8e-bd55-4f40-bc3c-24cd9dff3e56"
      },
      "execution_count": 6,
      "outputs": [
        {
          "output_type": "execute_result",
          "data": {
            "text/plain": [
              "_io.TextIOWrapper"
            ]
          },
          "metadata": {},
          "execution_count": 6
        }
      ]
    },
    {
      "cell_type": "code",
      "source": [
        "[x for x in myfile]"
      ],
      "metadata": {
        "colab": {
          "base_uri": "https://localhost:8080/"
        },
        "id": "lJ8We_J1R6Y5",
        "outputId": "e1d3ce08-65b1-4be0-df15-7b5ea61add8d"
      },
      "execution_count": 7,
      "outputs": [
        {
          "output_type": "execute_result",
          "data": {
            "text/plain": [
              "[\"A poet once said, 'The whole universe is in a glass of wine.'\\n\",\n",
              " 'We will probably never know in what sense he meant it, \\n',\n",
              " 'for poets do not write to be understood. \\n',\n",
              " 'But it is true that if we look at a glass of wine closely enough we see the entire universe. \\n',\n",
              " 'There are the things of physics: the twisting liquid which evaporates depending\\n',\n",
              " 'on the wind and weather, the reflection in the glass;\\n',\n",
              " 'and our imagination adds atoms.\\n',\n",
              " \"The glass is a distillation of the earth's rocks,\\n\",\n",
              " \"and in its composition we see the secrets of the universe's age, and the evolution of stars. \\n\",\n",
              " 'What strange array of chemicals are in the wine? How did they come to be? \\n',\n",
              " 'There are the ferments, the enzymes, the substrates, and the products.\\n',\n",
              " 'There in wine is found the great generalization; all life is fermentation.\\n',\n",
              " 'Nobody can discover the chemistry of wine without discovering, \\n',\n",
              " 'as did Louis Pasteur, the cause of much disease.\\n',\n",
              " 'How vivid is the claret, pressing its existence into the consciousness that watches it!\\n',\n",
              " 'If our small minds, for some convenience, divide this glass of wine, this universe, \\n',\n",
              " 'into parts -- \\n',\n",
              " 'physics, biology, geology, astronomy, psychology, and so on -- \\n',\n",
              " 'remember that nature does not know it!\\n',\n",
              " '\\n',\n",
              " 'So let us put it all back together, not forgetting ultimately what it is for.\\n',\n",
              " 'Let it give us one more final pleasure; drink it and forget it all!\\n',\n",
              " '   - Richard Feynman\\n']"
            ]
          },
          "metadata": {},
          "execution_count": 7
        }
      ]
    },
    {
      "cell_type": "code",
      "source": [
        "[x for x in myfile]"
      ],
      "metadata": {
        "colab": {
          "base_uri": "https://localhost:8080/"
        },
        "id": "v29lxoEMR-N1",
        "outputId": "40c0a62e-85ec-40fa-f990-933c28c16c65"
      },
      "execution_count": 8,
      "outputs": [
        {
          "output_type": "execute_result",
          "data": {
            "text/plain": [
              "[]"
            ]
          },
          "metadata": {},
          "execution_count": 8
        }
      ]
    },
    {
      "cell_type": "code",
      "source": [
        "myfile.seek(0)#回到开头\n",
        "[len(x) for x in myfile if 'know' in x]"
      ],
      "metadata": {
        "colab": {
          "base_uri": "https://localhost:8080/"
        },
        "id": "jlCNP9TCSGY8",
        "outputId": "45a2f18c-5703-4e7f-d867-59985826104b"
      },
      "execution_count": 9,
      "outputs": [
        {
          "output_type": "execute_result",
          "data": {
            "text/plain": [
              "[56, 39]"
            ]
          },
          "metadata": {},
          "execution_count": 9
        }
      ]
    },
    {
      "cell_type": "code",
      "source": [
        "myfile.seek(0)\n",
        "first = myfile.readline()#一次读取一行"
      ],
      "metadata": {
        "id": "D-1jbhlbSObt"
      },
      "execution_count": 10,
      "outputs": []
    },
    {
      "cell_type": "code",
      "source": [
        "first"
      ],
      "metadata": {
        "colab": {
          "base_uri": "https://localhost:8080/",
          "height": 37
        },
        "id": "QMDVfan9SReO",
        "outputId": "d8dda363-f61e-4293-f6b1-5eb011934721"
      },
      "execution_count": 11,
      "outputs": [
        {
          "output_type": "execute_result",
          "data": {
            "text/plain": [
              "\"A poet once said, 'The whole universe is in a glass of wine.'\\n\""
            ],
            "application/vnd.google.colaboratory.intrinsic+json": {
              "type": "string"
            }
          },
          "metadata": {},
          "execution_count": 11
        }
      ]
    },
    {
      "cell_type": "code",
      "source": [
        "second = myfile.readline()"
      ],
      "metadata": {
        "id": "qKzjIfSPSS7v"
      },
      "execution_count": 12,
      "outputs": []
    },
    {
      "cell_type": "code",
      "source": [
        "second"
      ],
      "metadata": {
        "colab": {
          "base_uri": "https://localhost:8080/",
          "height": 37
        },
        "id": "dD9XY2jPSnRt",
        "outputId": "74b37335-b4f1-4945-d60c-70fd1afe28a3"
      },
      "execution_count": 13,
      "outputs": [
        {
          "output_type": "execute_result",
          "data": {
            "text/plain": [
              "'We will probably never know in what sense he meant it, \\n'"
            ],
            "application/vnd.google.colaboratory.intrinsic+json": {
              "type": "string"
            }
          },
          "metadata": {},
          "execution_count": 13
        }
      ]
    },
    {
      "cell_type": "code",
      "source": [
        "rest = myfile.read()#一次把剩余的全部读完\n",
        "rest"
      ],
      "metadata": {
        "colab": {
          "base_uri": "https://localhost:8080/",
          "height": 157
        },
        "id": "X8Z81C_zSuNK",
        "outputId": "aa9758ef-f80c-42cc-ec40-4d3d464b72ef"
      },
      "execution_count": 14,
      "outputs": [
        {
          "output_type": "execute_result",
          "data": {
            "text/plain": [
              "\"for poets do not write to be understood. \\nBut it is true that if we look at a glass of wine closely enough we see the entire universe. \\nThere are the things of physics: the twisting liquid which evaporates depending\\non the wind and weather, the reflection in the glass;\\nand our imagination adds atoms.\\nThe glass is a distillation of the earth's rocks,\\nand in its composition we see the secrets of the universe's age, and the evolution of stars. \\nWhat strange array of chemicals are in the wine? How did they come to be? \\nThere are the ferments, the enzymes, the substrates, and the products.\\nThere in wine is found the great generalization; all life is fermentation.\\nNobody can discover the chemistry of wine without discovering, \\nas did Louis Pasteur, the cause of much disease.\\nHow vivid is the claret, pressing its existence into the consciousness that watches it!\\nIf our small minds, for some convenience, divide this glass of wine, this universe, \\ninto parts -- \\nphysics, biology, geology, astronomy, psychology, and so on -- \\nremember that nature does not know it!\\n\\nSo let us put it all back together, not forgetting ultimately what it is for.\\nLet it give us one more final pleasure; drink it and forget it all!\\n   - Richard Feynman\\n\""
            ],
            "application/vnd.google.colaboratory.intrinsic+json": {
              "type": "string"
            }
          },
          "metadata": {},
          "execution_count": 14
        }
      ]
    },
    {
      "cell_type": "code",
      "source": [
        "open('mydata.txt').read()#把所有内容变为一个string"
      ],
      "metadata": {
        "colab": {
          "base_uri": "https://localhost:8080/",
          "height": 157
        },
        "id": "jP6oyhnQS75N",
        "outputId": "74b45876-89af-49b9-ea3a-78ca9862f30c"
      },
      "execution_count": 15,
      "outputs": [
        {
          "output_type": "execute_result",
          "data": {
            "text/plain": [
              "\"A poet once said, 'The whole universe is in a glass of wine.'\\nWe will probably never know in what sense he meant it, \\nfor poets do not write to be understood. \\nBut it is true that if we look at a glass of wine closely enough we see the entire universe. \\nThere are the things of physics: the twisting liquid which evaporates depending\\non the wind and weather, the reflection in the glass;\\nand our imagination adds atoms.\\nThe glass is a distillation of the earth's rocks,\\nand in its composition we see the secrets of the universe's age, and the evolution of stars. \\nWhat strange array of chemicals are in the wine? How did they come to be? \\nThere are the ferments, the enzymes, the substrates, and the products.\\nThere in wine is found the great generalization; all life is fermentation.\\nNobody can discover the chemistry of wine without discovering, \\nas did Louis Pasteur, the cause of much disease.\\nHow vivid is the claret, pressing its existence into the consciousness that watches it!\\nIf our small minds, for some convenience, divide this glass of wine, this universe, \\ninto parts -- \\nphysics, biology, geology, astronomy, psychology, and so on -- \\nremember that nature does not know it!\\n\\nSo let us put it all back together, not forgetting ultimately what it is for.\\nLet it give us one more final pleasure; drink it and forget it all!\\n   - Richard Feynman\\n\""
            ],
            "application/vnd.google.colaboratory.intrinsic+json": {
              "type": "string"
            }
          },
          "metadata": {},
          "execution_count": 15
        }
      ]
    },
    {
      "cell_type": "code",
      "source": [
        "myfile.seek(800)"
      ],
      "metadata": {
        "colab": {
          "base_uri": "https://localhost:8080/"
        },
        "id": "8p0AORLTT2dn",
        "outputId": "46b03811-c17b-4273-9c98-66837f197f43"
      },
      "execution_count": 16,
      "outputs": [
        {
          "output_type": "execute_result",
          "data": {
            "text/plain": [
              "800"
            ]
          },
          "metadata": {},
          "execution_count": 16
        }
      ]
    },
    {
      "cell_type": "code",
      "source": [
        "myfile.read(10)"
      ],
      "metadata": {
        "colab": {
          "base_uri": "https://localhost:8080/",
          "height": 37
        },
        "id": "7K_coahRT_Wx",
        "outputId": "a2d27616-2221-42c3-8d8e-8ec204592f0c"
      },
      "execution_count": 17,
      "outputs": [
        {
          "output_type": "execute_result",
          "data": {
            "text/plain": [
              "'over the c'"
            ],
            "application/vnd.google.colaboratory.intrinsic+json": {
              "type": "string"
            }
          },
          "metadata": {},
          "execution_count": 17
        }
      ]
    },
    {
      "cell_type": "code",
      "source": [
        "mystring = \"Hello World\\n My name is James\""
      ],
      "metadata": {
        "id": "wrnWYzCzVfai"
      },
      "execution_count": 18,
      "outputs": []
    },
    {
      "cell_type": "code",
      "source": [
        "from io import StringIO #把string转换为files\n",
        "mystringasafile = StringIO(mystring)\n",
        "mystringasafile.readline()"
      ],
      "metadata": {
        "colab": {
          "base_uri": "https://localhost:8080/",
          "height": 37
        },
        "id": "PPklNn95VmFJ",
        "outputId": "40b23f4a-b73d-4cda-dc07-eca1c1e76d88"
      },
      "execution_count": 19,
      "outputs": [
        {
          "output_type": "execute_result",
          "data": {
            "text/plain": [
              "'Hello World\\n'"
            ],
            "application/vnd.google.colaboratory.intrinsic+json": {
              "type": "string"
            }
          },
          "metadata": {},
          "execution_count": 19
        }
      ]
    },
    {
      "cell_type": "code",
      "source": [
        "mystringasafile.readline()"
      ],
      "metadata": {
        "colab": {
          "base_uri": "https://localhost:8080/",
          "height": 37
        },
        "id": "3893BajHppgx",
        "outputId": "0eb3855d-b4e3-4c8c-d98a-a168d0bb4ab1"
      },
      "execution_count": 20,
      "outputs": [
        {
          "output_type": "execute_result",
          "data": {
            "text/plain": [
              "' My name is James'"
            ],
            "application/vnd.google.colaboratory.intrinsic+json": {
              "type": "string"
            }
          },
          "metadata": {},
          "execution_count": 20
        }
      ]
    },
    {
      "cell_type": "code",
      "source": [
        "myfile.close()"
      ],
      "metadata": {
        "id": "FMwDIgS8qC3j"
      },
      "execution_count": 21,
      "outputs": []
    },
    {
      "cell_type": "code",
      "source": [
        "with open('mydata.txt') as somefile:\n",
        "    content = somefile.read()\n",
        "\n",
        "content"
      ],
      "metadata": {
        "colab": {
          "base_uri": "https://localhost:8080/",
          "height": 157
        },
        "id": "mXP-U-0YqPMm",
        "outputId": "bcdfa499-589a-44f2-d7ef-7df90dc6601b"
      },
      "execution_count": 22,
      "outputs": [
        {
          "output_type": "execute_result",
          "data": {
            "text/plain": [
              "\"A poet once said, 'The whole universe is in a glass of wine.'\\nWe will probably never know in what sense he meant it, \\nfor poets do not write to be understood. \\nBut it is true that if we look at a glass of wine closely enough we see the entire universe. \\nThere are the things of physics: the twisting liquid which evaporates depending\\non the wind and weather, the reflection in the glass;\\nand our imagination adds atoms.\\nThe glass is a distillation of the earth's rocks,\\nand in its composition we see the secrets of the universe's age, and the evolution of stars. \\nWhat strange array of chemicals are in the wine? How did they come to be? \\nThere are the ferments, the enzymes, the substrates, and the products.\\nThere in wine is found the great generalization; all life is fermentation.\\nNobody can discover the chemistry of wine without discovering, \\nas did Louis Pasteur, the cause of much disease.\\nHow vivid is the claret, pressing its existence into the consciousness that watches it!\\nIf our small minds, for some convenience, divide this glass of wine, this universe, \\ninto parts -- \\nphysics, biology, geology, astronomy, psychology, and so on -- \\nremember that nature does not know it!\\n\\nSo let us put it all back together, not forgetting ultimately what it is for.\\nLet it give us one more final pleasure; drink it and forget it all!\\n   - Richard Feynman\\n\""
            ],
            "application/vnd.google.colaboratory.intrinsic+json": {
              "type": "string"
            }
          },
          "metadata": {},
          "execution_count": 22
        }
      ]
    },
    {
      "cell_type": "code",
      "source": [
        "with open('mywrittenfile', 'w') as target:#w为写file的内容\n",
        "    target.write('Hello')\n",
        "    target.write('World')\n",
        "with open('mywrittenfile','r') as source:#r为读取file的内容\n",
        "    print(source.read())"
      ],
      "metadata": {
        "colab": {
          "base_uri": "https://localhost:8080/"
        },
        "id": "Wjyx4bKUqaqo",
        "outputId": "caec82fe-9268-4415-f364-74ef749f0051"
      },
      "execution_count": 23,
      "outputs": [
        {
          "output_type": "stream",
          "name": "stdout",
          "text": [
            "HelloWorld\n"
          ]
        }
      ]
    },
    {
      "cell_type": "code",
      "source": [
        "with open('mywrittenfile', 'a') as target:#a为在file中加内容\n",
        "    target.write('Hello')\n",
        "    target.write('James')\n",
        "with open('mywrittenfile','r') as source:\n",
        "    print(source.read())"
      ],
      "metadata": {
        "colab": {
          "base_uri": "https://localhost:8080/"
        },
        "id": "eZoK6wD3qj8X",
        "outputId": "9625b5b8-52a2-4b5c-f64a-333ce05b85ea"
      },
      "execution_count": 24,
      "outputs": [
        {
          "output_type": "stream",
          "name": "stdout",
          "text": [
            "HelloWorldHelloJames\n"
          ]
        }
      ]
    },
    {
      "cell_type": "code",
      "source": [
        "#URL=Uniform Resource Locator\n",
        "import requests\n",
        "response = requests.get(\"https://static-maps.yandex.ru/1.x/?size=400,400&ll=-0.1275,51.51&z=10&l=sat&lang=en_US\",#这个网址是一张图片\n",
        "                        params={\n",
        "                            'size': '400,400',\n",
        "                            'll': '-0.1275,51.51',\n",
        "                            'zoom': 10,\n",
        "                            'l': 'sat',\n",
        "                            'lang': 'en_US'\n",
        "                        })"
      ],
      "metadata": {
        "id": "UjQQcfCOrC0c"
      },
      "execution_count": 25,
      "outputs": []
    },
    {
      "cell_type": "code",
      "source": [
        "response.content[0:50]"
      ],
      "metadata": {
        "colab": {
          "base_uri": "https://localhost:8080/"
        },
        "id": "HwATzp1IsgTO",
        "outputId": "b967c688-4e04-40d9-c2a1-356967733425"
      },
      "execution_count": 26,
      "outputs": [
        {
          "output_type": "execute_result",
          "data": {
            "text/plain": [
              "b'\\xff\\xd8\\xff\\xe0\\x00\\x10JFIF\\x00\\x01\\x01\\x01\\x00H\\x00H\\x00\\x00\\xff\\xdb\\x00C\\x00\\x08\\x06\\x06\\x07\\x06\\x05\\x08\\x07\\x07\\x07\\t\\t\\x08\\n\\x0c\\x14\\r\\x0c\\x0b\\x0b\\x0c\\x19\\x12\\x13\\x0f'"
            ]
          },
          "metadata": {},
          "execution_count": 26
        }
      ]
    },
    {
      "cell_type": "code",
      "source": [
        "spots = requests.get('http://www.sidc.be/silso/INFO/snmtotcsv.php').text#这个网址是一个excel里面都是数据\n",
        "spots[0:80] #输出了一个以分号间隔的数据"
      ],
      "metadata": {
        "colab": {
          "base_uri": "https://localhost:8080/",
          "height": 37
        },
        "id": "1MesP_U2syRD",
        "outputId": "8df6d98f-1183-4401-8a3b-6c301f387f66"
      },
      "execution_count": 45,
      "outputs": [
        {
          "output_type": "execute_result",
          "data": {
            "text/plain": [
              "'1749;01;1749.042;  96.7; -1.0;   -1;1\\n1749;02;1749.123; 104.3; -1.0;   -1;1\\n1749'"
            ],
            "application/vnd.google.colaboratory.intrinsic+json": {
              "type": "string"
            }
          },
          "metadata": {},
          "execution_count": 45
        }
      ]
    },
    {
      "cell_type": "code",
      "source": [
        "import requests\n",
        "spots = requests.get('http://www.sidc.be/silso/INFO/snmtotcsv.php')\n",
        "spots.text.split('\\n')[0]"
      ],
      "metadata": {
        "colab": {
          "base_uri": "https://localhost:8080/",
          "height": 37
        },
        "id": "P0Bsc7fXtDsb",
        "outputId": "3ff04289-c72f-4f87-f23c-f666c285edf4"
      },
      "execution_count": 28,
      "outputs": [
        {
          "output_type": "execute_result",
          "data": {
            "text/plain": [
              "'1749;01;1749.042;  96.7; -1.0;   -1;1'"
            ],
            "application/vnd.google.colaboratory.intrinsic+json": {
              "type": "string"
            }
          },
          "metadata": {},
          "execution_count": 28
        }
      ]
    },
    {
      "cell_type": "markdown",
      "source": [
        "逗号comma分隔的数据为CSV，空格tap分隔的数据为TSV"
      ],
      "metadata": {
        "id": "rXEceS9HuMFf"
      }
    },
    {
      "cell_type": "code",
      "source": [
        "import numpy as np\n",
        "import requests\n",
        "spots = requests.get('http://www.sidc.be/silso/INFO/snmtotcsv.php', stream=True)#stream=True延迟加载所有数据直到他们被使用"
      ],
      "metadata": {
        "id": "S3ZbGmT7uUr6"
      },
      "execution_count": 49,
      "outputs": []
    },
    {
      "cell_type": "code",
      "source": [
        "sunspots = np.genfromtxt(spots.raw, delimiter=';')"
      ],
      "metadata": {
        "id": "xdVUtdjGvLsd"
      },
      "execution_count": 40,
      "outputs": []
    },
    {
      "cell_type": "code",
      "source": [
        "sunspots#太阳黑子周期"
      ],
      "metadata": {
        "colab": {
          "base_uri": "https://localhost:8080/"
        },
        "id": "Lm9ojXo0vUdZ",
        "outputId": "7eba2293-5148-449f-84b2-e4637431e2a0"
      },
      "execution_count": 31,
      "outputs": [
        {
          "output_type": "execute_result",
          "data": {
            "text/plain": [
              "array([[ 1.749000e+03,  1.000000e+00,  1.749042e+03, ..., -1.000000e+00,\n",
              "        -1.000000e+00,  1.000000e+00],\n",
              "       [ 1.749000e+03,  2.000000e+00,  1.749123e+03, ..., -1.000000e+00,\n",
              "        -1.000000e+00,  1.000000e+00],\n",
              "       [ 1.749000e+03,  3.000000e+00,  1.749204e+03, ..., -1.000000e+00,\n",
              "        -1.000000e+00,  1.000000e+00],\n",
              "       ...,\n",
              "       [ 2.022000e+03,  7.000000e+00,  2.022538e+03, ...,  1.220000e+01,\n",
              "         1.304000e+03,  0.000000e+00],\n",
              "       [ 2.022000e+03,  8.000000e+00,  2.022623e+03, ...,  1.050000e+01,\n",
              "         1.289000e+03,  0.000000e+00],\n",
              "       [ 2.022000e+03,  9.000000e+00,  2.022705e+03, ...,  1.620000e+01,\n",
              "         1.130000e+03,  0.000000e+00]])"
            ]
          },
          "metadata": {},
          "execution_count": 31
        }
      ]
    },
    {
      "cell_type": "code",
      "source": [
        "sunspots[0]#读取第0行的数据"
      ],
      "metadata": {
        "colab": {
          "base_uri": "https://localhost:8080/"
        },
        "id": "KXvbw09nyS9f",
        "outputId": "46b21903-8559-40a1-9ddc-a0d1fa8740e4"
      },
      "execution_count": 32,
      "outputs": [
        {
          "output_type": "execute_result",
          "data": {
            "text/plain": [
              "array([ 1.749000e+03,  1.000000e+00,  1.749042e+03,  9.670000e+01,\n",
              "       -1.000000e+00, -1.000000e+00,  1.000000e+00])"
            ]
          },
          "metadata": {},
          "execution_count": 32
        }
      ]
    },
    {
      "cell_type": "code",
      "source": [
        "sunspots[0][3]#读取第0行第3个数据"
      ],
      "metadata": {
        "colab": {
          "base_uri": "https://localhost:8080/"
        },
        "id": "hYVH36vjyW1z",
        "outputId": "bc039c1e-0898-4964-baed-a9aaf3e15107"
      },
      "execution_count": 33,
      "outputs": [
        {
          "output_type": "execute_result",
          "data": {
            "text/plain": [
              "96.7"
            ]
          },
          "metadata": {},
          "execution_count": 33
        }
      ]
    },
    {
      "cell_type": "code",
      "source": [
        "sunspots[:,2]"
      ],
      "metadata": {
        "colab": {
          "base_uri": "https://localhost:8080/"
        },
        "id": "a3w7NMnj0tHB",
        "outputId": "f1297aeb-a551-4d01-e8a5-35404faf4fa2"
      },
      "execution_count": 34,
      "outputs": [
        {
          "output_type": "execute_result",
          "data": {
            "text/plain": [
              "array([1749.042, 1749.123, 1749.204, ..., 2022.538, 2022.623, 2022.705])"
            ]
          },
          "metadata": {},
          "execution_count": 34
        }
      ]
    },
    {
      "cell_type": "code",
      "source": [
        "sunspots[:,3]"
      ],
      "metadata": {
        "colab": {
          "base_uri": "https://localhost:8080/"
        },
        "id": "vUwgrE-R0_CG",
        "outputId": "15574703-539e-4238-86a2-c95d3efbb4b5"
      },
      "execution_count": 35,
      "outputs": [
        {
          "output_type": "execute_result",
          "data": {
            "text/plain": [
              "array([ 96.7, 104.3, 116.7, ...,  91.4,  75.4,  96.3])"
            ]
          },
          "metadata": {},
          "execution_count": 35
        }
      ]
    },
    {
      "cell_type": "code",
      "source": [
        "%matplotlib inline\n",
        "\n",
        "from matplotlib import pyplot as plt\n",
        "plt.plot(sunspots[:,0], sunspots[:,3]) # Numpy syntax to access all \n",
        "                                       # rows, specified column."
      ],
      "metadata": {
        "colab": {
          "base_uri": "https://localhost:8080/",
          "height": 282
        },
        "id": "Dz9UukWUzREz",
        "outputId": "5d564dfa-4392-474d-d6a6-cf86b3a50c99"
      },
      "execution_count": 36,
      "outputs": [
        {
          "output_type": "execute_result",
          "data": {
            "text/plain": [
              "[<matplotlib.lines.Line2D at 0x7f92b4418950>]"
            ]
          },
          "metadata": {},
          "execution_count": 36
        },
        {
          "output_type": "display_data",
          "data": {
            "text/plain": [
              "<Figure size 432x288 with 1 Axes>"
            ],
            "image/png": "[encoded data removed]"
          },
          "metadata": {
            "needs_background": "light"
          }
        }
      ]
    },
    {
      "cell_type": "code",
      "source": [
        "sunspots = np.genfromtxt(spots.raw, delimiter=';', \n",
        "                         names=['year','month','date',\n",
        "                         'mean','deviation','observations','definitive'])#每个数据的名字，第一列年份，第二列月份，第三列日期，第四列均值，第五列标准差"
      ],
      "metadata": {
        "id": "9Eh6hHl01O4h"
      },
      "execution_count": 42,
      "outputs": []
    },
    {
      "cell_type": "code",
      "source": [
        "sunspots"
      ],
      "metadata": {
        "colab": {
          "base_uri": "https://localhost:8080/"
        },
        "id": "IUtiFTng4R1_",
        "outputId": "808a8664-5d97-4b04-b048-6341ed0ead83"
      },
      "execution_count": 44,
      "outputs": [
        {
          "output_type": "execute_result",
          "data": {
            "text/plain": [
              "array([(1749., 1., 1749.042,  96.7, -1. , -1.000e+00, 1.),\n",
              "       (1749., 2., 1749.123, 104.3, -1. , -1.000e+00, 1.),\n",
              "       (1749., 3., 1749.204, 116.7, -1. , -1.000e+00, 1.), ...,\n",
              "       (2022., 7., 2022.538,  91.4, 12.2,  1.304e+03, 0.),\n",
              "       (2022., 8., 2022.623,  75.4, 10.5,  1.289e+03, 0.),\n",
              "       (2022., 9., 2022.705,  96.3, 16.2,  1.130e+03, 0.)],\n",
              "      dtype=[('year', '<f8'), ('month', '<f8'), ('date', '<f8'), ('mean', '<f8'), ('deviation', '<f8'), ('observations', '<f8'), ('definitive', '<f8')])"
            ]
          },
          "metadata": {},
          "execution_count": 44
        }
      ]
    },
    {
      "cell_type": "code",
      "source": [
        "sunspots = np.genfromtxt(spots.raw, delimiter=';', \n",
        "                         names=['year','month','date',\n",
        "                         'mean','deviation','observations','definitive'],\n",
        "                         dtype=[int, int, float, float, float, int, int])#确定每一列的数据的类型"
      ],
      "metadata": {
        "id": "8EvUIuNu4cUD"
      },
      "execution_count": 48,
      "outputs": []
    },
    {
      "cell_type": "code",
      "source": [
        "sunspots"
      ],
      "metadata": {
        "colab": {
          "base_uri": "https://localhost:8080/"
        },
        "id": "djFWOQst4qkf",
        "outputId": "01fcc84e-4bcc-412d-8257-455f8e709a85"
      },
      "execution_count": 50,
      "outputs": [
        {
          "output_type": "execute_result",
          "data": {
            "text/plain": [
              "array([(1749, 1, 1749.042,  96.7, -1. ,   -1, 1),\n",
              "       (1749, 2, 1749.123, 104.3, -1. ,   -1, 1),\n",
              "       (1749, 3, 1749.204, 116.7, -1. ,   -1, 1), ...,\n",
              "       (2022, 7, 2022.538,  91.4, 12.2, 1304, 0),\n",
              "       (2022, 8, 2022.623,  75.4, 10.5, 1289, 0),\n",
              "       (2022, 9, 2022.705,  96.3, 16.2, 1130, 0)],\n",
              "      dtype=[('year', '<i8'), ('month', '<i8'), ('date', '<f8'), ('mean', '<f8'), ('deviation', '<f8'), ('observations', '<i8'), ('definitive', '<i8')])"
            ]
          },
          "metadata": {},
          "execution_count": 50
        }
      ]
    },
    {
      "cell_type": "code",
      "source": [
        "sunspots['year']"
      ],
      "metadata": {
        "colab": {
          "base_uri": "https://localhost:8080/"
        },
        "id": "_hFq79mt5Au1",
        "outputId": "c4bd9cf5-9a5b-48b8-b189-15487f2fed6d"
      },
      "execution_count": 51,
      "outputs": [
        {
          "output_type": "execute_result",
          "data": {
            "text/plain": [
              "array([1749, 1749, 1749, ..., 2022, 2022, 2022])"
            ]
          },
          "metadata": {},
          "execution_count": 51
        }
      ]
    },
    {
      "cell_type": "code",
      "source": [
        "plt.plot(sunspots['year'], sunspots['mean'])"
      ],
      "metadata": {
        "colab": {
          "base_uri": "https://localhost:8080/",
          "height": 282
        },
        "id": "CnDnCgb45DNU",
        "outputId": "285588ca-a489-404a-bcbe-b8f5a2b0b3bf"
      },
      "execution_count": 52,
      "outputs": [
        {
          "output_type": "execute_result",
          "data": {
            "text/plain": [
              "[<matplotlib.lines.Line2D at 0x7f92b8856650>]"
            ]
          },
          "metadata": {},
          "execution_count": 52
        },
        {
          "output_type": "display_data",
          "data": {
            "text/plain": [
              "<Figure size 432x288 with 1 Axes>"
            ],
            "image/png": "[encoded data removed]"
          },
          "metadata": {
            "needs_background": "light"
          }
        }
      ]
    },
    {
      "cell_type": "code",
      "source": [
        "import json"
      ],
      "metadata": {
        "id": "fO8AGxgmqHLF"
      },
      "execution_count": 53,
      "outputs": []
    },
    {
      "cell_type": "code",
      "source": [
        "mydata = {'key': ['value1', 'value2'], \n",
        "          'key2': {'key4':'value3'}}\n",
        "json.dumps(mydata)#可以存储多种数据，list,dictionary"
      ],
      "metadata": {
        "colab": {
          "base_uri": "https://localhost:8080/",
          "height": 37
        },
        "id": "7nZ340vyqpBx",
        "outputId": "e8ac8d32-fd82-4fb1-ef38-d18eefb40642"
      },
      "execution_count": 54,
      "outputs": [
        {
          "output_type": "execute_result",
          "data": {
            "text/plain": [
              "'{\"key\": [\"value1\", \"value2\"], \"key2\": {\"key4\": \"value3\"}}'"
            ],
            "application/vnd.google.colaboratory.intrinsic+json": {
              "type": "string"
            }
          },
          "metadata": {},
          "execution_count": 54
        }
      ]
    },
    {
      "cell_type": "code",
      "source": [
        "print(json.dumps(mydata, indent=4))#缩进"
      ],
      "metadata": {
        "colab": {
          "base_uri": "https://localhost:8080/"
        },
        "id": "MWhLIbyNq_AY",
        "outputId": "465fb8bc-208a-4970-da49-54f524c7dc25"
      },
      "execution_count": 55,
      "outputs": [
        {
          "output_type": "stream",
          "name": "stdout",
          "text": [
            "{\n",
            "    \"key\": [\n",
            "        \"value1\",\n",
            "        \"value2\"\n",
            "    ],\n",
            "    \"key2\": {\n",
            "        \"key4\": \"value3\"\n",
            "    }\n",
            "}\n"
          ]
        }
      ]
    },
    {
      "cell_type": "markdown",
      "source": [
        "写一个file叫writefile myfile.json"
      ],
      "metadata": {
        "id": "GImkHySit7XA"
      }
    },
    {
      "cell_type": "code",
      "source": [
        "%%writefile myfile.json \n",
        "{\n",
        "    \"somekey\": [\"a list\", \"with values\"]\n",
        "} "
      ],
      "metadata": {
        "colab": {
          "base_uri": "https://localhost:8080/"
        },
        "id": "lStyz4cTsY9k",
        "outputId": "506f6990-7653-4ee9-f2eb-1d21cbdf70bf"
      },
      "execution_count": 56,
      "outputs": [
        {
          "output_type": "stream",
          "name": "stdout",
          "text": [
            "Writing myfile.json\n"
          ]
        }
      ]
    },
    {
      "cell_type": "code",
      "source": [
        "with open('myfile.json', 'r') as json_file:\n",
        "    my_data_as_string = json_file.read()#读取myfile.json中的数据"
      ],
      "metadata": {
        "id": "E69b9DQyshVE"
      },
      "execution_count": 57,
      "outputs": []
    },
    {
      "cell_type": "code",
      "source": [
        "my_data_as_string"
      ],
      "metadata": {
        "colab": {
          "base_uri": "https://localhost:8080/",
          "height": 37
        },
        "id": "L3xu1lsNsk5o",
        "outputId": "37742e05-8d32-4601-b5ad-8a2547390be2"
      },
      "execution_count": 58,
      "outputs": [
        {
          "output_type": "execute_result",
          "data": {
            "text/plain": [
              "'{\\n    \"somekey\": [\"a list\", \"with values\"]\\n} \\n'"
            ],
            "application/vnd.google.colaboratory.intrinsic+json": {
              "type": "string"
            }
          },
          "metadata": {},
          "execution_count": 58
        }
      ]
    },
    {
      "cell_type": "code",
      "source": [
        "mydata = json.loads(my_data_as_string)\n",
        "mydata['somekey']#读取somekey中的list"
      ],
      "metadata": {
        "colab": {
          "base_uri": "https://localhost:8080/"
        },
        "id": "H8XJqW9zslCo",
        "outputId": "ebf0b4f7-7409-472e-9d2c-24170c7bac9b"
      },
      "execution_count": 59,
      "outputs": [
        {
          "output_type": "execute_result",
          "data": {
            "text/plain": [
              "['a list', 'with values']"
            ]
          },
          "metadata": {},
          "execution_count": 59
        }
      ]
    },
    {
      "cell_type": "markdown",
      "source": [
        "写一个file叫writefile myfile.yaml"
      ],
      "metadata": {
        "id": "a8QGHehTt93l"
      }
    },
    {
      "cell_type": "code",
      "source": [
        "%%writefile myfile.yaml\n",
        "somekey:\n",
        "    - a list # Look, this is a list\n",
        "    - with values"
      ],
      "metadata": {
        "colab": {
          "base_uri": "https://localhost:8080/"
        },
        "id": "eluGcxFZtzhE",
        "outputId": "997055ee-b6dd-46f8-9230-b72474d8a19d"
      },
      "execution_count": 60,
      "outputs": [
        {
          "output_type": "stream",
          "name": "stdout",
          "text": [
            "Writing myfile.yaml\n"
          ]
        }
      ]
    },
    {
      "cell_type": "code",
      "source": [
        "import yaml  # This may need installed as pyyaml"
      ],
      "metadata": {
        "id": "3jkx5xEhuKFf"
      },
      "execution_count": 61,
      "outputs": []
    },
    {
      "cell_type": "code",
      "source": [
        "with open('myfile.yaml') as yaml_file:\n",
        "    my_data = yaml.safe_load(yaml_file)\n",
        "print(mydata)"
      ],
      "metadata": {
        "colab": {
          "base_uri": "https://localhost:8080/"
        },
        "id": "JPF4Ip1guQQB",
        "outputId": "683a537c-b3e4-41f4-fe71-f525bffc3f15"
      },
      "execution_count": 62,
      "outputs": [
        {
          "output_type": "stream",
          "name": "stdout",
          "text": [
            "{'somekey': ['a list', 'with values']}\n"
          ]
        }
      ]
    },
    {
      "cell_type": "code",
      "source": [
        "print(yaml.safe_dump(mydata))"
      ],
      "metadata": {
        "colab": {
          "base_uri": "https://localhost:8080/"
        },
        "id": "9zZv5Zspurdb",
        "outputId": "df30ac0c-8870-43b2-a0d3-9634c9d42e50"
      },
      "execution_count": 63,
      "outputs": [
        {
          "output_type": "stream",
          "name": "stdout",
          "text": [
            "somekey:\n",
            "- a list\n",
            "- with values\n",
            "\n"
          ]
        }
      ]
    },
    {
      "cell_type": "code",
      "source": [
        "print(yaml.safe_dump(mydata, default_flow_style=True))"
      ],
      "metadata": {
        "colab": {
          "base_uri": "https://localhost:8080/"
        },
        "id": "YcR94hosuyu_",
        "outputId": "f1331c90-4c6b-4431-edb5-7589c9ed9521"
      },
      "execution_count": 64,
      "outputs": [
        {
          "output_type": "stream",
          "name": "stdout",
          "text": [
            "{somekey: [a list, with values]}\n",
            "\n"
          ]
        }
      ]
    },
    {
      "cell_type": "code",
      "source": [
        "from matplotlib import pyplot as plt"
      ],
      "metadata": {
        "id": "xBlAvELV8FFX"
      },
      "execution_count": 65,
      "outputs": []
    },
    {
      "cell_type": "code",
      "source": [
        "%matplotlib inline"
      ],
      "metadata": {
        "id": "smKUKsBz8pQP"
      },
      "execution_count": 66,
      "outputs": []
    },
    {
      "cell_type": "code",
      "source": [
        "from math import sin, cos, pi\n",
        "my_fig = plt.plot([sin(pi * x / 100.0) for x in range(100)])"
      ],
      "metadata": {
        "colab": {
          "base_uri": "https://localhost:8080/",
          "height": 265
        },
        "id": "JIy8qb4q8tgZ",
        "outputId": "835014b0-65d0-42fc-dc45-393877d6f271"
      },
      "execution_count": 68,
      "outputs": [
        {
          "output_type": "display_data",
          "data": {
            "text/plain": [
              "<Figure size 432x288 with 1 Axes>"
            ],
            "image/png": "[encoded data removed]"
          },
          "metadata": {
            "needs_background": "light"
          }
        }
      ]
    },
    {
      "cell_type": "code",
      "source": [
        "plt.plot([sin(pi * x / 100.0) for x in range(100)])\n",
        "plt.title(\"Hello\")\n"
      ],
      "metadata": {
        "colab": {
          "base_uri": "https://localhost:8080/",
          "height": 298
        },
        "id": "k6Yn3eNg87s1",
        "outputId": "9c2ee941-51dc-4f2b-9c8d-2444b1e3de4e"
      },
      "execution_count": 70,
      "outputs": [
        {
          "output_type": "execute_result",
          "data": {
            "text/plain": [
              "Text(0.5, 1.0, 'Hello')"
            ]
          },
          "metadata": {},
          "execution_count": 70
        },
        {
          "output_type": "display_data",
          "data": {
            "text/plain": [
              "<Figure size 432x288 with 1 Axes>"
            ],
            "image/png": "[encoded data removed]"
          },
          "metadata": {
            "needs_background": "light"
          }
        }
      ]
    },
    {
      "cell_type": "code",
      "source": [
        "sine_graph, sine_graph_axes = plt.subplots()"
      ],
      "metadata": {
        "colab": {
          "base_uri": "https://localhost:8080/",
          "height": 269
        },
        "id": "ZUDQ5hWF9YUx",
        "outputId": "1c3b151a-60b5-4cba-e560-c696065e9343"
      },
      "execution_count": 71,
      "outputs": [
        {
          "output_type": "display_data",
          "data": {
            "text/plain": [
              "<Figure size 432x288 with 1 Axes>"
            ],
            "image/png": "[encoded data removed]"
          },
          "metadata": {
            "needs_background": "light"
          }
        }
      ]
    },
    {
      "cell_type": "code",
      "source": [
        "sine_graph_axes.plot([sin(pi * x / 100.0) for x in range(100)], label='sin(x)')"
      ],
      "metadata": {
        "colab": {
          "base_uri": "https://localhost:8080/"
        },
        "id": "A_LtF6Ul9f3C",
        "outputId": "c7d5eb21-80a0-4d9d-d84c-dafffa3ad7d2"
      },
      "execution_count": 72,
      "outputs": [
        {
          "output_type": "execute_result",
          "data": {
            "text/plain": [
              "[<matplotlib.lines.Line2D at 0x7f92b3cf1610>]"
            ]
          },
          "metadata": {},
          "execution_count": 72
        }
      ]
    },
    {
      "cell_type": "code",
      "source": [
        "sine_graph_axes.set_title(\"My graph\")"
      ],
      "metadata": {
        "colab": {
          "base_uri": "https://localhost:8080/"
        },
        "id": "3uRws2Fi9jLT",
        "outputId": "8451061d-ed91-459d-b351-c4213883c513"
      },
      "execution_count": 73,
      "outputs": [
        {
          "output_type": "execute_result",
          "data": {
            "text/plain": [
              "Text(0.5, 1.0, 'My graph')"
            ]
          },
          "metadata": {},
          "execution_count": 73
        }
      ]
    },
    {
      "cell_type": "code",
      "source": [
        "sine_graph_axes.set_ylabel(\"f(x)\")"
      ],
      "metadata": {
        "colab": {
          "base_uri": "https://localhost:8080/"
        },
        "id": "22ihIzmg9l8R",
        "outputId": "b45066f4-67a9-466f-a941-750c0ad561e9"
      },
      "execution_count": 74,
      "outputs": [
        {
          "output_type": "execute_result",
          "data": {
            "text/plain": [
              "Text(3.200000000000003, 0.5, 'f(x)')"
            ]
          },
          "metadata": {},
          "execution_count": 74
        }
      ]
    },
    {
      "cell_type": "code",
      "source": [
        "sine_graph_axes.set_xlabel(\"100 x\")"
      ],
      "metadata": {
        "colab": {
          "base_uri": "https://localhost:8080/"
        },
        "id": "W71-UZlx9oT1",
        "outputId": "97929a13-5110-4e55-91a7-70366ee2a721"
      },
      "execution_count": 75,
      "outputs": [
        {
          "output_type": "execute_result",
          "data": {
            "text/plain": [
              "Text(0.5, 3.1999999999999993, '100 x')"
            ]
          },
          "metadata": {},
          "execution_count": 75
        }
      ]
    },
    {
      "cell_type": "code",
      "source": [
        "sine_graph"
      ],
      "metadata": {
        "colab": {
          "base_uri": "https://localhost:8080/",
          "height": 295
        },
        "id": "M1-Rxdl89tiG",
        "outputId": "54f7b680-96f9-40a5-a115-3e86042ce9c4"
      },
      "execution_count": 76,
      "outputs": [
        {
          "output_type": "execute_result",
          "data": {
            "text/plain": [
              "<Figure size 432x288 with 1 Axes>"
            ],
            "image/png": "[encoded data removed]"
          },
          "metadata": {},
          "execution_count": 76
        }
      ]
    },
    {
      "cell_type": "code",
      "source": [
        "sine_graph_axes.plot([cos(pi * x / 100.0) for x in range(100)], label='cos(x)')"
      ],
      "metadata": {
        "colab": {
          "base_uri": "https://localhost:8080/"
        },
        "id": "OI2D46Aq9ysO",
        "outputId": "9b87b572-f38b-4fb0-ab38-83db3208c35e"
      },
      "execution_count": 77,
      "outputs": [
        {
          "output_type": "execute_result",
          "data": {
            "text/plain": [
              "[<matplotlib.lines.Line2D at 0x7f92b39bebd0>]"
            ]
          },
          "metadata": {},
          "execution_count": 77
        }
      ]
    },
    {
      "cell_type": "code",
      "source": [
        "sine_graph"
      ],
      "metadata": {
        "colab": {
          "base_uri": "https://localhost:8080/",
          "height": 295
        },
        "id": "r4qJawJa91_I",
        "outputId": "e853006d-6273-40cf-d4d1-8f99c3ad9014"
      },
      "execution_count": 78,
      "outputs": [
        {
          "output_type": "execute_result",
          "data": {
            "text/plain": [
              "<Figure size 432x288 with 1 Axes>"
            ],
            "image/png": "[encoded data removed]"
          },
          "metadata": {},
          "execution_count": 78
        }
      ]
    },
    {
      "cell_type": "code",
      "source": [
        "sine_graph_axes.legend()"
      ],
      "metadata": {
        "colab": {
          "base_uri": "https://localhost:8080/"
        },
        "id": "kBHiRYZv9-sN",
        "outputId": "9ee9553d-a3ed-4df8-e83f-2fa85998549d"
      },
      "execution_count": 79,
      "outputs": [
        {
          "output_type": "execute_result",
          "data": {
            "text/plain": [
              "<matplotlib.legend.Legend at 0x7f92b39fb750>"
            ]
          },
          "metadata": {},
          "execution_count": 79
        }
      ]
    },
    {
      "cell_type": "code",
      "source": [
        "sine_graph"
      ],
      "metadata": {
        "colab": {
          "base_uri": "https://localhost:8080/",
          "height": 295
        },
        "id": "SegN0mFL-Atr",
        "outputId": "886497a5-e40a-4295-c9eb-27110e83d41c"
      },
      "execution_count": 80,
      "outputs": [
        {
          "output_type": "execute_result",
          "data": {
            "text/plain": [
              "<Figure size 432x288 with 1 Axes>"
            ],
            "image/png": "[encoded data removed]"
          },
          "metadata": {},
          "execution_count": 80
        }
      ]
    },
    {
      "cell_type": "code",
      "source": [
        "sine_graph.savefig('my_graph.png')"
      ],
      "metadata": {
        "id": "cFlm7zLk-GrF"
      },
      "execution_count": 82,
      "outputs": []
    },
    {
      "cell_type": "code",
      "source": [
        "from IPython.display import Image # Get the notebook's own library for manipulating itself.\n",
        "Image(filename='my_graph.png')"
      ],
      "metadata": {
        "colab": {
          "base_uri": "https://localhost:8080/",
          "height": 305
        },
        "id": "PP0r1MeJ-OFD",
        "outputId": "25b00999-1aed-4a17-e222-52c507c96a84"
      },
      "execution_count": 83,
      "outputs": [
        {
          "output_type": "execute_result",
          "data": {
            "image/png": "[encoded data removed]",
            "text/plain": [
              "<IPython.core.display.Image object>"
            ]
          },
          "metadata": {},
          "execution_count": 83
        }
      ]
    },
    {
      "cell_type": "code",
      "source": [
        "double_graph = plt.figure()"
      ],
      "metadata": {
        "colab": {
          "base_uri": "https://localhost:8080/",
          "height": 34
        },
        "id": "nTrAglS5-V9G",
        "outputId": "52a152f5-b184-47bc-fc43-7637654c95b3"
      },
      "execution_count": 84,
      "outputs": [
        {
          "output_type": "display_data",
          "data": {
            "text/plain": [
              "<Figure size 432x288 with 0 Axes>"
            ]
          },
          "metadata": {}
        }
      ]
    },
    {
      "cell_type": "code",
      "source": [
        "sin_axes = double_graph.add_subplot(2, 1, 1) # 2 rows, 1 column, 1st subplot\n",
        "cos_axes = double_graph.add_subplot(2, 1, 2) # 2 rows, 1 column, 2nd subplot\n",
        "double_graph"
      ],
      "metadata": {
        "colab": {
          "base_uri": "https://localhost:8080/",
          "height": 371
        },
        "id": "GnGGAZnw-Z4i",
        "outputId": "48811dbc-8897-4ca4-c392-b5342ed75f0b"
      },
      "execution_count": 109,
      "outputs": [
        {
          "output_type": "stream",
          "name": "stderr",
          "text": [
            "/usr/local/lib/python3.7/dist-packages/ipykernel_launcher.py:1: MatplotlibDeprecationWarning: Adding an axes using the same arguments as a previous axes currently reuses the earlier instance.  In a future version, a new instance will always be created and returned.  Meanwhile, this warning can be suppressed, and the future behavior ensured, by passing a unique label to each axes instance.\n",
            "  \"\"\"Entry point for launching an IPython kernel.\n",
            "/usr/local/lib/python3.7/dist-packages/ipykernel_launcher.py:2: MatplotlibDeprecationWarning: Adding an axes using the same arguments as a previous axes currently reuses the earlier instance.  In a future version, a new instance will always be created and returned.  Meanwhile, this warning can be suppressed, and the future behavior ensured, by passing a unique label to each axes instance.\n",
            "  \n"
          ]
        },
        {
          "output_type": "execute_result",
          "data": {
            "text/plain": [
              "<Figure size 432x288 with 2 Axes>"
            ],
            "image/png": "[encoded data removed]"
          },
          "metadata": {},
          "execution_count": 109
        }
      ]
    },
    {
      "cell_type": "code",
      "source": [
        "sin_axes.plot([sin(pi * x / 100.0) for x in range(100)])\n",
        "sin_axes.set_ylabel(\"sin(x)\")\n",
        "cos_axes.plot([cos(pi * x / 100.0) for x in range(100)])\n",
        "cos_axes.set_ylabel(\"cos(x)\")\n",
        "cos_axes.set_xlabel(\"100 x\")\n",
        "double_graph"
      ],
      "metadata": {
        "colab": {
          "base_uri": "https://localhost:8080/",
          "height": 279
        },
        "id": "epbroRFZ-40z",
        "outputId": "253c564b-2238-453f-c476-0afc5e83cc11"
      },
      "execution_count": 111,
      "outputs": [
        {
          "output_type": "execute_result",
          "data": {
            "text/plain": [
              "<Figure size 432x288 with 2 Axes>"
            ],
            "image/png": "[encoded data removed]"
          },
          "metadata": {},
          "execution_count": 111
        }
      ]
    },
    {
      "cell_type": "code",
      "source": [
        "double_graph = plt.figure()\n",
        "sin_axes = double_graph.add_subplot(2, 1, 1)\n",
        "cos_axes = double_graph.add_subplot(2, 1, 2)\n",
        "cos_axes.set_ylabel(\"cos(x)\")\n",
        "sin_axes.set_ylabel(\"sin(x)\")\n",
        "cos_axes.set_xlabel(\"x\")"
      ],
      "metadata": {
        "colab": {
          "base_uri": "https://localhost:8080/",
          "height": 300
        },
        "id": "Vk3N6xp-_Ix3",
        "outputId": "44c36af9-776b-4afa-a0df-ad286a902750"
      },
      "execution_count": 115,
      "outputs": [
        {
          "output_type": "execute_result",
          "data": {
            "text/plain": [
              "Text(0.5, 0, 'x')"
            ]
          },
          "metadata": {},
          "execution_count": 115
        },
        {
          "output_type": "display_data",
          "data": {
            "text/plain": [
              "<Figure size 432x288 with 2 Axes>"
            ],
            "image/png": "[encoded data removed]"
          },
          "metadata": {
            "needs_background": "light"
          }
        }
      ]
    },
    {
      "cell_type": "code",
      "source": [
        "sin_axes.plot( [x / 100.0 for x in range(100)],[sin(pi * x / 100.0) for x in range(100)])#前一半为x的取值范围【0，1】\n",
        "cos_axes.plot([x / 100.0 for x in range(100)], [cos(pi * x / 100.0) for x in range(100)])\n",
        "double_graph"
      ],
      "metadata": {
        "colab": {
          "base_uri": "https://localhost:8080/",
          "height": 279
        },
        "id": "cxeVDQXS_QWR",
        "outputId": "2801dc54-3f0d-47bd-df19-91d94313b10e"
      },
      "execution_count": 116,
      "outputs": [
        {
          "output_type": "execute_result",
          "data": {
            "text/plain": [
              "<Figure size 432x288 with 2 Axes>"
            ],
            "image/png": "[encoded data removed]"
          },
          "metadata": {},
          "execution_count": 116
        }
      ]
    },
    {
      "cell_type": "code",
      "source": [
        "x = [list(range(5)) for N in range(5)]"
      ],
      "metadata": {
        "id": "bpRZGOVYLpha"
      },
      "execution_count": 117,
      "outputs": []
    },
    {
      "cell_type": "code",
      "source": [
        "x"
      ],
      "metadata": {
        "colab": {
          "base_uri": "https://localhost:8080/"
        },
        "id": "yN3nWaY_Lyfy",
        "outputId": "fc97b31d-ca67-4618-adbe-184fa94f464e"
      },
      "execution_count": 118,
      "outputs": [
        {
          "output_type": "execute_result",
          "data": {
            "text/plain": [
              "[[0, 1, 2, 3, 4],\n",
              " [0, 1, 2, 3, 4],\n",
              " [0, 1, 2, 3, 4],\n",
              " [0, 1, 2, 3, 4],\n",
              " [0, 1, 2, 3, 4]]"
            ]
          },
          "metadata": {},
          "execution_count": 118
        }
      ]
    },
    {
      "cell_type": "code",
      "source": [
        "x[1][2]"
      ],
      "metadata": {
        "colab": {
          "base_uri": "https://localhost:8080/"
        },
        "id": "sAm77CcBL4qN",
        "outputId": "17ad298d-e022-4e34-e092-0261a36fca67"
      },
      "execution_count": 122,
      "outputs": [
        {
          "output_type": "execute_result",
          "data": {
            "text/plain": [
              "2"
            ]
          },
          "metadata": {},
          "execution_count": 122
        }
      ]
    },
    {
      "cell_type": "code",
      "source": [
        "[[element + 5 for element in row] for row in x]#每个元素都+5"
      ],
      "metadata": {
        "colab": {
          "base_uri": "https://localhost:8080/"
        },
        "id": "FQbBqC5iMCJ5",
        "outputId": "3c12e0c4-cf2d-4487-f021-a721515a83cb"
      },
      "execution_count": 124,
      "outputs": [
        {
          "output_type": "execute_result",
          "data": {
            "text/plain": [
              "[[5, 6, 7, 8, 9],\n",
              " [5, 6, 7, 8, 9],\n",
              " [5, 6, 7, 8, 9],\n",
              " [5, 6, 7, 8, 9],\n",
              " [5, 6, 7, 8, 9]]"
            ]
          },
          "metadata": {},
          "execution_count": 124
        }
      ]
    },
    {
      "cell_type": "code",
      "source": [
        "import numpy as np\n",
        "my_array = np.array(range(5))#np.array与list的对比"
      ],
      "metadata": {
        "id": "1PJZ8TruMdZq"
      },
      "execution_count": 125,
      "outputs": []
    },
    {
      "cell_type": "code",
      "source": [
        "my_array"
      ],
      "metadata": {
        "colab": {
          "base_uri": "https://localhost:8080/"
        },
        "id": "Jjfp2LBuMeWm",
        "outputId": "c84f0045-cb39-41b0-b02f-278d27401fe6"
      },
      "execution_count": 126,
      "outputs": [
        {
          "output_type": "execute_result",
          "data": {
            "text/plain": [
              "array([0, 1, 2, 3, 4])"
            ]
          },
          "metadata": {},
          "execution_count": 126
        }
      ]
    },
    {
      "cell_type": "code",
      "source": [
        "my_array[2]"
      ],
      "metadata": {
        "colab": {
          "base_uri": "https://localhost:8080/"
        },
        "id": "TIKhRboLMkaV",
        "outputId": "30b7751c-af64-42a9-c49d-45e3959cff80"
      },
      "execution_count": 127,
      "outputs": [
        {
          "output_type": "execute_result",
          "data": {
            "text/plain": [
              "2"
            ]
          },
          "metadata": {},
          "execution_count": 127
        }
      ]
    },
    {
      "cell_type": "code",
      "source": [
        "for element in my_array:\n",
        "    print(\"Hello\" * element)"
      ],
      "metadata": {
        "colab": {
          "base_uri": "https://localhost:8080/"
        },
        "id": "zcQlmq-7MtSA",
        "outputId": "5007a666-2c5d-4f4c-ddf8-621c718e5a24"
      },
      "execution_count": 128,
      "outputs": [
        {
          "output_type": "stream",
          "name": "stdout",
          "text": [
            "\n",
            "Hello\n",
            "HelloHello\n",
            "HelloHelloHello\n",
            "HelloHelloHelloHello\n"
          ]
        }
      ]
    },
    {
      "cell_type": "code",
      "source": [
        "my_array.append(4)#np.arrray不能改变大小"
      ],
      "metadata": {
        "colab": {
          "base_uri": "https://localhost:8080/",
          "height": 164
        },
        "id": "n_I_klIjM0_X",
        "outputId": "bfa82e85-74b2-4165-bd06-59d6444c5edf"
      },
      "execution_count": 129,
      "outputs": [
        {
          "output_type": "error",
          "ename": "AttributeError",
          "evalue": "ignored",
          "traceback": [
            "\u001b[0;31m---------------------------------------------------------------------------\u001b[0m",
            "\u001b[0;31mAttributeError\u001b[0m                            Traceback (most recent call last)",
            "\u001b[0;32m<ipython-input-129-b12177763178>\u001b[0m in \u001b[0;36m<module>\u001b[0;34m\u001b[0m\n\u001b[0;32m----> 1\u001b[0;31m \u001b[0mmy_array\u001b[0m\u001b[0;34m.\u001b[0m\u001b[0mappend\u001b[0m\u001b[0;34m(\u001b[0m\u001b[0;36m4\u001b[0m\u001b[0;34m)\u001b[0m\u001b[0;34m\u001b[0m\u001b[0;34m\u001b[0m\u001b[0m\n\u001b[0m",
            "\u001b[0;31mAttributeError\u001b[0m: 'numpy.ndarray' object has no attribute 'append'"
          ]
        }
      ]
    },
    {
      "cell_type": "code",
      "source": [
        "my_array + 2#可以直接每个元素+2"
      ],
      "metadata": {
        "colab": {
          "base_uri": "https://localhost:8080/"
        },
        "id": "eOTOyJmjM_GO",
        "outputId": "c59b1216-1e04-4135-bcef-9ba944adb6b1"
      },
      "execution_count": 130,
      "outputs": [
        {
          "output_type": "execute_result",
          "data": {
            "text/plain": [
              "array([2, 3, 4, 5, 6])"
            ]
          },
          "metadata": {},
          "execution_count": 130
        }
      ]
    },
    {
      "cell_type": "code",
      "source": [
        "import numpy as np\n",
        "big_list = range(10000)#np.array更快\n",
        "big_array = np.arange(10000)#the %%timeit magic reports how long it takes to run a cell"
      ],
      "metadata": {
        "id": "anQQCKiQNCTB"
      },
      "execution_count": 133,
      "outputs": []
    },
    {
      "cell_type": "code",
      "source": [
        "%%timeit\n",
        "[x**2 for x in big_list]"
      ],
      "metadata": {
        "colab": {
          "base_uri": "https://localhost:8080/"
        },
        "id": "Hb6svokvofxI",
        "outputId": "52803042-ee73-4a69-b733-c46766b3af1f"
      },
      "execution_count": 134,
      "outputs": [
        {
          "output_type": "stream",
          "name": "stdout",
          "text": [
            "2.88 ms ± 78.4 µs per loop (mean ± std. dev. of 7 runs, 100 loops each)\n"
          ]
        }
      ]
    },
    {
      "cell_type": "code",
      "source": [
        "%%timeit\n",
        "big_array**2"
      ],
      "metadata": {
        "colab": {
          "base_uri": "https://localhost:8080/"
        },
        "id": "u6s7SMFlolZk",
        "outputId": "729a0b3f-3e03-45bb-ed66-add18b0c7fd6"
      },
      "execution_count": 135,
      "outputs": [
        {
          "output_type": "stream",
          "name": "stdout",
          "text": [
            "The slowest run took 6.65 times longer than the fastest. This could mean that an intermediate result is being cached.\n",
            "20.6 µs ± 11.9 µs per loop (mean ± std. dev. of 7 runs, 10000 loops each)\n"
          ]
        }
      ]
    },
    {
      "cell_type": "code",
      "source": [
        "x = np.arange(0, 10, 0.1)  # Start, stop, step size\n",
        "#可以快速定义间隔相等的浮点数组，间隔可以为0.1，而list的间隔只能为整数"
      ],
      "metadata": {
        "id": "jZ2TUE2bp1VS"
      },
      "execution_count": 136,
      "outputs": []
    },
    {
      "cell_type": "code",
      "source": [
        "y = list(range(0, 10, 0.1))"
      ],
      "metadata": {
        "colab": {
          "base_uri": "https://localhost:8080/",
          "height": 164
        },
        "id": "5K6eIvCLp_Sd",
        "outputId": "1d3389f4-1c62-4100-cdad-0c508746aec0"
      },
      "execution_count": 139,
      "outputs": [
        {
          "output_type": "error",
          "ename": "TypeError",
          "evalue": "ignored",
          "traceback": [
            "\u001b[0;31m---------------------------------------------------------------------------\u001b[0m",
            "\u001b[0;31mTypeError\u001b[0m                                 Traceback (most recent call last)",
            "\u001b[0;32m<ipython-input-139-90c31a0aefc9>\u001b[0m in \u001b[0;36m<module>\u001b[0;34m\u001b[0m\n\u001b[0;32m----> 1\u001b[0;31m \u001b[0my\u001b[0m \u001b[0;34m=\u001b[0m \u001b[0mlist\u001b[0m\u001b[0;34m(\u001b[0m\u001b[0mrange\u001b[0m\u001b[0;34m(\u001b[0m\u001b[0;36m0\u001b[0m\u001b[0;34m,\u001b[0m \u001b[0;36m10\u001b[0m\u001b[0;34m,\u001b[0m \u001b[0;36m0.1\u001b[0m\u001b[0;34m)\u001b[0m\u001b[0;34m)\u001b[0m\u001b[0;34m\u001b[0m\u001b[0;34m\u001b[0m\u001b[0m\n\u001b[0m",
            "\u001b[0;31mTypeError\u001b[0m: 'float' object cannot be interpreted as an integer"
          ]
        }
      ]
    },
    {
      "cell_type": "code",
      "source": [
        "import math\n",
        "values = np.linspace(0, math.pi, 100)  # Start, stop, number of steps"
      ],
      "metadata": {
        "id": "LBRgiPT1qG0N"
      },
      "execution_count": 140,
      "outputs": []
    },
    {
      "cell_type": "code",
      "source": [
        "values"
      ],
      "metadata": {
        "colab": {
          "base_uri": "https://localhost:8080/"
        },
        "id": "QfcjCad5qKt-",
        "outputId": "bbf9fc1f-9068-45d1-aada-5e49b0d055ca"
      },
      "execution_count": 141,
      "outputs": [
        {
          "output_type": "execute_result",
          "data": {
            "text/plain": [
              "array([0.        , 0.03173326, 0.06346652, 0.09519978, 0.12693304,\n",
              "       0.1586663 , 0.19039955, 0.22213281, 0.25386607, 0.28559933,\n",
              "       0.31733259, 0.34906585, 0.38079911, 0.41253237, 0.44426563,\n",
              "       0.47599889, 0.50773215, 0.53946541, 0.57119866, 0.60293192,\n",
              "       0.63466518, 0.66639844, 0.6981317 , 0.72986496, 0.76159822,\n",
              "       0.79333148, 0.82506474, 0.856798  , 0.88853126, 0.92026451,\n",
              "       0.95199777, 0.98373103, 1.01546429, 1.04719755, 1.07893081,\n",
              "       1.11066407, 1.14239733, 1.17413059, 1.20586385, 1.23759711,\n",
              "       1.26933037, 1.30106362, 1.33279688, 1.36453014, 1.3962634 ,\n",
              "       1.42799666, 1.45972992, 1.49146318, 1.52319644, 1.5549297 ,\n",
              "       1.58666296, 1.61839622, 1.65012947, 1.68186273, 1.71359599,\n",
              "       1.74532925, 1.77706251, 1.80879577, 1.84052903, 1.87226229,\n",
              "       1.90399555, 1.93572881, 1.96746207, 1.99919533, 2.03092858,\n",
              "       2.06266184, 2.0943951 , 2.12612836, 2.15786162, 2.18959488,\n",
              "       2.22132814, 2.2530614 , 2.28479466, 2.31652792, 2.34826118,\n",
              "       2.37999443, 2.41172769, 2.44346095, 2.47519421, 2.50692747,\n",
              "       2.53866073, 2.57039399, 2.60212725, 2.63386051, 2.66559377,\n",
              "       2.69732703, 2.72906028, 2.76079354, 2.7925268 , 2.82426006,\n",
              "       2.85599332, 2.88772658, 2.91945984, 2.9511931 , 2.98292636,\n",
              "       3.01465962, 3.04639288, 3.07812614, 3.10985939, 3.14159265])"
            ]
          },
          "metadata": {},
          "execution_count": 141
        }
      ]
    },
    {
      "cell_type": "code",
      "source": [
        "%matplotlib inline\n",
        "\n",
        "from matplotlib import pyplot as plt\n",
        "plt.plot(values, np.sin(values))"
      ],
      "metadata": {
        "colab": {
          "base_uri": "https://localhost:8080/",
          "height": 282
        },
        "id": "HRD7mYEiqiJB",
        "outputId": "92f21f60-68c5-4abf-f04c-4fa1b14e8c4d"
      },
      "execution_count": 144,
      "outputs": [
        {
          "output_type": "execute_result",
          "data": {
            "text/plain": [
              "[<matplotlib.lines.Line2D at 0x7f92aaacf590>]"
            ]
          },
          "metadata": {},
          "execution_count": 144
        },
        {
          "output_type": "display_data",
          "data": {
            "text/plain": [
              "<Figure size 432x288 with 1 Axes>"
            ],
            "image/png": "[encoded data removed]"
          },
          "metadata": {
            "needs_background": "light"
          }
        }
      ]
    },
    {
      "cell_type": "code",
      "source": [
        "np.zeros([3, 4, 2]) #多维矩阵，3个4行2列的0的矩阵"
      ],
      "metadata": {
        "colab": {
          "base_uri": "https://localhost:8080/"
        },
        "id": "7Sr2r3UcqzJt",
        "outputId": "436048c8-3e19-4fe3-c6ae-5afa65694eca"
      },
      "execution_count": 145,
      "outputs": [
        {
          "output_type": "execute_result",
          "data": {
            "text/plain": [
              "array([[[0., 0.],\n",
              "        [0., 0.],\n",
              "        [0., 0.],\n",
              "        [0., 0.]],\n",
              "\n",
              "       [[0., 0.],\n",
              "        [0., 0.],\n",
              "        [0., 0.],\n",
              "        [0., 0.]],\n",
              "\n",
              "       [[0., 0.],\n",
              "        [0., 0.],\n",
              "        [0., 0.],\n",
              "        [0., 0.]]])"
            ]
          },
          "metadata": {},
          "execution_count": 145
        }
      ]
    },
    {
      "cell_type": "code",
      "source": [
        "x = np.array(range(40))\n",
        "x"
      ],
      "metadata": {
        "colab": {
          "base_uri": "https://localhost:8080/"
        },
        "id": "MbqARDBsrAYB",
        "outputId": "f5e1d0ed-8018-4dc7-ef2c-51a5d9f28848"
      },
      "execution_count": 147,
      "outputs": [
        {
          "output_type": "execute_result",
          "data": {
            "text/plain": [
              "array([ 0,  1,  2,  3,  4,  5,  6,  7,  8,  9, 10, 11, 12, 13, 14, 15, 16,\n",
              "       17, 18, 19, 20, 21, 22, 23, 24, 25, 26, 27, 28, 29, 30, 31, 32, 33,\n",
              "       34, 35, 36, 37, 38, 39])"
            ]
          },
          "metadata": {},
          "execution_count": 147
        }
      ]
    },
    {
      "cell_type": "code",
      "source": [
        "y = x.reshape([4,5,2])#重新组合成4个5行2列的矩阵\n",
        "y"
      ],
      "metadata": {
        "colab": {
          "base_uri": "https://localhost:8080/"
        },
        "id": "6lAv46qwrDLO",
        "outputId": "b76cc658-edac-4215-b102-58bc49690aff"
      },
      "execution_count": 175,
      "outputs": [
        {
          "output_type": "execute_result",
          "data": {
            "text/plain": [
              "array([[[ 0,  1],\n",
              "        [ 2,  3],\n",
              "        [ 4,  5],\n",
              "        [ 6,  7],\n",
              "        [ 8,  9]],\n",
              "\n",
              "       [[10, 11],\n",
              "        [12, 13],\n",
              "        [14, 15],\n",
              "        [16, 17],\n",
              "        [18, 19]],\n",
              "\n",
              "       [[20, 21],\n",
              "        [22, 23],\n",
              "        [24, 25],\n",
              "        [26, 27],\n",
              "        [28, 29]],\n",
              "\n",
              "       [[30, 31],\n",
              "        [32, 33],\n",
              "        [34, 35],\n",
              "        [36, 37],\n",
              "        [38, 39]]])"
            ]
          },
          "metadata": {},
          "execution_count": 175
        }
      ]
    },
    {
      "cell_type": "code",
      "source": [
        "y[3, 2, 1]#第四个第三行第二列的元素"
      ],
      "metadata": {
        "colab": {
          "base_uri": "https://localhost:8080/"
        },
        "id": "8MMFjL_ArPcU",
        "outputId": "74eb2466-550d-451c-e7f7-65a1cf2e00d4"
      },
      "execution_count": 151,
      "outputs": [
        {
          "output_type": "execute_result",
          "data": {
            "text/plain": [
              "35"
            ]
          },
          "metadata": {},
          "execution_count": 151
        }
      ]
    },
    {
      "cell_type": "code",
      "source": [
        "y[:, 2, 1]#把所有矩阵的第三行第二列切片出来"
      ],
      "metadata": {
        "colab": {
          "base_uri": "https://localhost:8080/"
        },
        "id": "TR6caJEHr371",
        "outputId": "f96d2907-9055-44a3-e25c-0153021a7673"
      },
      "execution_count": 152,
      "outputs": [
        {
          "output_type": "execute_result",
          "data": {
            "text/plain": [
              "array([ 5, 15, 25, 35])"
            ]
          },
          "metadata": {},
          "execution_count": 152
        }
      ]
    },
    {
      "cell_type": "code",
      "source": [
        "y[2:, :1, :] #x:指从第x+1个一直到最后一个，：y指从第1个一直到第y个，：指所有"
      ],
      "metadata": {
        "colab": {
          "base_uri": "https://localhost:8080/"
        },
        "id": "q4QPwfKSr9pF",
        "outputId": "3f1a6309-6aab-43ed-b165-49581a2cf3ac"
      },
      "execution_count": 157,
      "outputs": [
        {
          "output_type": "execute_result",
          "data": {
            "text/plain": [
              "array([[[20, 21]],\n",
              "\n",
              "       [[30, 31]]])"
            ]
          },
          "metadata": {},
          "execution_count": 157
        }
      ]
    },
    {
      "cell_type": "code",
      "source": [
        "y.transpose()#转置矩阵，从4，5，2变成2，5，4"
      ],
      "metadata": {
        "colab": {
          "base_uri": "https://localhost:8080/"
        },
        "id": "rPToTJJHsk_Q",
        "outputId": "cd4a9a8e-3a29-4da4-aa7e-0b8dbaf1bef5"
      },
      "execution_count": 161,
      "outputs": [
        {
          "output_type": "execute_result",
          "data": {
            "text/plain": [
              "array([[[ 0, 10, 20, 30],\n",
              "        [ 2, 12, 22, 32],\n",
              "        [ 4, 14, 24, 34],\n",
              "        [ 6, 16, 26, 36],\n",
              "        [ 8, 18, 28, 38]],\n",
              "\n",
              "       [[ 1, 11, 21, 31],\n",
              "        [ 3, 13, 23, 33],\n",
              "        [ 5, 15, 25, 35],\n",
              "        [ 7, 17, 27, 37],\n",
              "        [ 9, 19, 29, 39]]])"
            ]
          },
          "metadata": {},
          "execution_count": 161
        }
      ]
    },
    {
      "cell_type": "code",
      "source": [
        "y.shape#获取y的shape"
      ],
      "metadata": {
        "colab": {
          "base_uri": "https://localhost:8080/"
        },
        "id": "kavQAYQDt6up",
        "outputId": "00701b47-2890-44ee-f722-35dae82bae50"
      },
      "execution_count": 165,
      "outputs": [
        {
          "output_type": "execute_result",
          "data": {
            "text/plain": [
              "(4, 5, 2)"
            ]
          },
          "metadata": {},
          "execution_count": 165
        }
      ]
    },
    {
      "cell_type": "code",
      "source": [
        "y.transpose().shape"
      ],
      "metadata": {
        "colab": {
          "base_uri": "https://localhost:8080/"
        },
        "id": "AEMWJUn2t_8N",
        "outputId": "d54bc875-a677-466a-f6ae-e7ad748bd28d"
      },
      "execution_count": 167,
      "outputs": [
        {
          "output_type": "execute_result",
          "data": {
            "text/plain": [
              "(2, 5, 4)"
            ]
          },
          "metadata": {},
          "execution_count": 167
        }
      ]
    },
    {
      "cell_type": "code",
      "source": [
        "x = np.arange(12).reshape(4,3)\n",
        "x"
      ],
      "metadata": {
        "colab": {
          "base_uri": "https://localhost:8080/"
        },
        "id": "_aCkPrkSusDQ",
        "outputId": "a217c91f-1099-40ac-94e7-856681bfb688"
      },
      "execution_count": 176,
      "outputs": [
        {
          "output_type": "execute_result",
          "data": {
            "text/plain": [
              "array([[ 0,  1,  2],\n",
              "       [ 3,  4,  5],\n",
              "       [ 6,  7,  8],\n",
              "       [ 9, 10, 11]])"
            ]
          },
          "metadata": {},
          "execution_count": 176
        }
      ]
    },
    {
      "cell_type": "code",
      "source": [
        "x.mean()#x中所有元素的均值"
      ],
      "metadata": {
        "colab": {
          "base_uri": "https://localhost:8080/"
        },
        "id": "gu0BlRjbutWE",
        "outputId": "4e083966-067a-4fe1-adf3-fd1f8a3ec1aa"
      },
      "execution_count": 177,
      "outputs": [
        {
          "output_type": "execute_result",
          "data": {
            "text/plain": [
              "5.5"
            ]
          },
          "metadata": {},
          "execution_count": 177
        }
      ]
    },
    {
      "cell_type": "code",
      "source": [
        "x.mean(0)#每一列的均值"
      ],
      "metadata": {
        "colab": {
          "base_uri": "https://localhost:8080/"
        },
        "id": "75kOn4XYux94",
        "outputId": "8a4a660c-6acc-422e-d54f-bd930158ea38"
      },
      "execution_count": 182,
      "outputs": [
        {
          "output_type": "execute_result",
          "data": {
            "text/plain": [
              "array([4.5, 5.5, 6.5])"
            ]
          },
          "metadata": {},
          "execution_count": 182
        }
      ]
    },
    {
      "cell_type": "code",
      "source": [
        "x.mean(1)#每一行的均值"
      ],
      "metadata": {
        "colab": {
          "base_uri": "https://localhost:8080/"
        },
        "id": "HreybPO_v4VT",
        "outputId": "0492ce39-a965-4f55-d434-867a5b43a479"
      },
      "execution_count": 183,
      "outputs": [
        {
          "output_type": "execute_result",
          "data": {
            "text/plain": [
              "array([ 1.,  4.,  7., 10.])"
            ]
          },
          "metadata": {},
          "execution_count": 183
        }
      ]
    },
    {
      "cell_type": "markdown",
      "source": [
        "type()\t返回数据结构类型（list、dict、numpy.ndarray 等）\n",
        "\n",
        "dtype()\t返回数据元素的数据类型（int、float等）\n",
        "备注：1）由于 list、dict 等可以包含不同的数据类型，因此不可调用dtype()函数\n",
        "     2）np.array 中要求所有元素属于同一数据类型，因此可调用dtype()函数\n",
        "     \n",
        "astype()\t改变np.array中所有数据元素的数据类型。\n",
        "备注：能用dtype() 才能用 astype()"
      ],
      "metadata": {
        "id": "xwnzWvv7wdMQ"
      }
    },
    {
      "cell_type": "code",
      "source": [
        "x = ['hello', 2, 3.4]#list可以包含多种类型的元素"
      ],
      "metadata": {
        "id": "OSaOTiliuzVL"
      },
      "execution_count": 184,
      "outputs": []
    },
    {
      "cell_type": "code",
      "source": [
        "type(x)"
      ],
      "metadata": {
        "colab": {
          "base_uri": "https://localhost:8080/"
        },
        "id": "fJ5ya90Kuzbg",
        "outputId": "5d71b22d-90a1-4643-d041-6f88476e8c30"
      },
      "execution_count": 185,
      "outputs": [
        {
          "output_type": "execute_result",
          "data": {
            "text/plain": [
              "list"
            ]
          },
          "metadata": {},
          "execution_count": 185
        }
      ]
    },
    {
      "cell_type": "code",
      "source": [
        "type(x[0])"
      ],
      "metadata": {
        "colab": {
          "base_uri": "https://localhost:8080/"
        },
        "id": "6sapiFNWxMqc",
        "outputId": "f7b6a1a2-6a1d-450f-9de3-2856a853d287"
      },
      "execution_count": 186,
      "outputs": [
        {
          "output_type": "execute_result",
          "data": {
            "text/plain": [
              "str"
            ]
          },
          "metadata": {},
          "execution_count": 186
        }
      ]
    },
    {
      "cell_type": "code",
      "source": [
        "type(x[1])"
      ],
      "metadata": {
        "colab": {
          "base_uri": "https://localhost:8080/"
        },
        "id": "b38pmWkoxPS0",
        "outputId": "c3096a4c-7f5c-4d3f-87b7-c8454ba0e1d2"
      },
      "execution_count": 187,
      "outputs": [
        {
          "output_type": "execute_result",
          "data": {
            "text/plain": [
              "int"
            ]
          },
          "metadata": {},
          "execution_count": 187
        }
      ]
    },
    {
      "cell_type": "code",
      "source": [
        "type(x[2])"
      ],
      "metadata": {
        "colab": {
          "base_uri": "https://localhost:8080/"
        },
        "id": "Y1Y_B7VDxRYy",
        "outputId": "95b537e6-7b36-4524-8c2a-db627a1c5da5"
      },
      "execution_count": 190,
      "outputs": [
        {
          "output_type": "execute_result",
          "data": {
            "text/plain": [
              "float"
            ]
          },
          "metadata": {},
          "execution_count": 190
        }
      ]
    },
    {
      "cell_type": "code",
      "source": [
        "np.array(x)#np.array只能包含一种类型的元素"
      ],
      "metadata": {
        "colab": {
          "base_uri": "https://localhost:8080/"
        },
        "id": "7r-dwndzxYjW",
        "outputId": "255c2965-1102-4f77-ecb8-88819022402e"
      },
      "execution_count": 192,
      "outputs": [
        {
          "output_type": "execute_result",
          "data": {
            "text/plain": [
              "array(['hello', '2', '3.4'], dtype='<U32')"
            ]
          },
          "metadata": {},
          "execution_count": 192
        }
      ]
    },
    {
      "cell_type": "code",
      "source": [
        "y=np.array([2,3.2])\n",
        "y"
      ],
      "metadata": {
        "colab": {
          "base_uri": "https://localhost:8080/"
        },
        "id": "eaea3d2ezKwX",
        "outputId": "6e0fbafd-f6db-4fa7-ff8c-713440d4fa93"
      },
      "execution_count": 196,
      "outputs": [
        {
          "output_type": "execute_result",
          "data": {
            "text/plain": [
              "array([2. , 3.2])"
            ]
          },
          "metadata": {},
          "execution_count": 196
        }
      ]
    },
    {
      "cell_type": "code",
      "source": [
        "y.dtype"
      ],
      "metadata": {
        "colab": {
          "base_uri": "https://localhost:8080/"
        },
        "id": "_dT-mvx1zaPp",
        "outputId": "e45221f7-b19f-4e5e-a190-cc1da8cf7d11"
      },
      "execution_count": 197,
      "outputs": [
        {
          "output_type": "execute_result",
          "data": {
            "text/plain": [
              "dtype('float64')"
            ]
          },
          "metadata": {},
          "execution_count": 197
        }
      ]
    },
    {
      "cell_type": "code",
      "source": [
        "type(y[0])"
      ],
      "metadata": {
        "colab": {
          "base_uri": "https://localhost:8080/"
        },
        "id": "shvuC9Yu0HHJ",
        "outputId": "6cfcea7f-acd5-4629-f6ef-f943ef693557"
      },
      "execution_count": 198,
      "outputs": [
        {
          "output_type": "execute_result",
          "data": {
            "text/plain": [
              "numpy.float64"
            ]
          },
          "metadata": {},
          "execution_count": 198
        }
      ]
    },
    {
      "cell_type": "code",
      "source": [
        "x = [2, 3.4, 7.2, 1]\n",
        "int_array = np.array(x, dtype=int)#把里面的元素转变为整数\n",
        "float_array = np.array(x, dtype=float)#把里面的元素转变为浮点数"
      ],
      "metadata": {
        "id": "0BOQUTVm0u18"
      },
      "execution_count": 204,
      "outputs": []
    },
    {
      "cell_type": "code",
      "source": [
        "int_array"
      ],
      "metadata": {
        "colab": {
          "base_uri": "https://localhost:8080/"
        },
        "id": "4c_GffKb1G0m",
        "outputId": "0d74ab8f-978c-4aee-8d54-acdd20b64dcf"
      },
      "execution_count": 201,
      "outputs": [
        {
          "output_type": "execute_result",
          "data": {
            "text/plain": [
              "array([2, 3, 7, 0])"
            ]
          },
          "metadata": {},
          "execution_count": 201
        }
      ]
    },
    {
      "cell_type": "code",
      "source": [
        "float_array"
      ],
      "metadata": {
        "colab": {
          "base_uri": "https://localhost:8080/"
        },
        "id": "N5Mcl4gC1c65",
        "outputId": "ab6dda45-40d1-41bf-f27d-a16e2ff69ed1"
      },
      "execution_count": 205,
      "outputs": [
        {
          "output_type": "execute_result",
          "data": {
            "text/plain": [
              "array([2. , 3.4, 7.2, 1. ])"
            ]
          },
          "metadata": {},
          "execution_count": 205
        }
      ]
    },
    {
      "cell_type": "code",
      "source": [
        "np.arange(5) * np.arange(5)#有点像向量点乘"
      ],
      "metadata": {
        "colab": {
          "base_uri": "https://localhost:8080/"
        },
        "id": "NUhfMbTu178E",
        "outputId": "0480ac5f-572c-4440-ca24-277a653ff17c"
      },
      "execution_count": 206,
      "outputs": [
        {
          "output_type": "execute_result",
          "data": {
            "text/plain": [
              "array([ 0,  1,  4,  9, 16])"
            ]
          },
          "metadata": {},
          "execution_count": 206
        }
      ]
    },
    {
      "cell_type": "code",
      "source": [
        "np.ones([3, 3]) + np.ones([3, 3])"
      ],
      "metadata": {
        "colab": {
          "base_uri": "https://localhost:8080/"
        },
        "id": "No6xiLJt3F1n",
        "outputId": "2654c5b4-883b-4321-d4e0-2bfe07aa89c6"
      },
      "execution_count": 211,
      "outputs": [
        {
          "output_type": "execute_result",
          "data": {
            "text/plain": [
              "array([[2., 2., 2.],\n",
              "       [2., 2., 2.],\n",
              "       [2., 2., 2.]])"
            ]
          },
          "metadata": {},
          "execution_count": 211
        }
      ]
    },
    {
      "cell_type": "code",
      "source": [
        "col = np.arange(10).reshape([10, 1])\n",
        "col"
      ],
      "metadata": {
        "colab": {
          "base_uri": "https://localhost:8080/"
        },
        "id": "PQNr0zdR4JeU",
        "outputId": "7dfa1564-dd00-4fdd-e029-7d6aedfc9be6"
      },
      "execution_count": 212,
      "outputs": [
        {
          "output_type": "execute_result",
          "data": {
            "text/plain": [
              "array([[0],\n",
              "       [1],\n",
              "       [2],\n",
              "       [3],\n",
              "       [4],\n",
              "       [5],\n",
              "       [6],\n",
              "       [7],\n",
              "       [8],\n",
              "       [9]])"
            ]
          },
          "metadata": {},
          "execution_count": 212
        }
      ]
    },
    {
      "cell_type": "code",
      "source": [
        "row=col.transpose()\n",
        "row"
      ],
      "metadata": {
        "colab": {
          "base_uri": "https://localhost:8080/"
        },
        "id": "qO5OGl_Y4bcw",
        "outputId": "a11f7891-274a-4360-cbcb-84e5685ba7fa"
      },
      "execution_count": 214,
      "outputs": [
        {
          "output_type": "execute_result",
          "data": {
            "text/plain": [
              "array([[0, 1, 2, 3, 4, 5, 6, 7, 8, 9]])"
            ]
          },
          "metadata": {},
          "execution_count": 214
        }
      ]
    },
    {
      "cell_type": "code",
      "source": [
        "col+row"
      ],
      "metadata": {
        "colab": {
          "base_uri": "https://localhost:8080/"
        },
        "id": "PSZcARt84fop",
        "outputId": "6f0781c3-d8b0-4770-ef93-6bb38d63d609"
      },
      "execution_count": 215,
      "outputs": [
        {
          "output_type": "execute_result",
          "data": {
            "text/plain": [
              "array([[ 0,  1,  2,  3,  4,  5,  6,  7,  8,  9],\n",
              "       [ 1,  2,  3,  4,  5,  6,  7,  8,  9, 10],\n",
              "       [ 2,  3,  4,  5,  6,  7,  8,  9, 10, 11],\n",
              "       [ 3,  4,  5,  6,  7,  8,  9, 10, 11, 12],\n",
              "       [ 4,  5,  6,  7,  8,  9, 10, 11, 12, 13],\n",
              "       [ 5,  6,  7,  8,  9, 10, 11, 12, 13, 14],\n",
              "       [ 6,  7,  8,  9, 10, 11, 12, 13, 14, 15],\n",
              "       [ 7,  8,  9, 10, 11, 12, 13, 14, 15, 16],\n",
              "       [ 8,  9, 10, 11, 12, 13, 14, 15, 16, 17],\n",
              "       [ 9, 10, 11, 12, 13, 14, 15, 16, 17, 18]])"
            ]
          },
          "metadata": {},
          "execution_count": 215
        }
      ]
    },
    {
      "cell_type": "code",
      "source": [
        "import numpy as np\n",
        "x = np.arange(10).reshape(2, 5)\n",
        "y = np.arange(8).reshape(2, 2, 2)"
      ],
      "metadata": {
        "id": "0rmRctIq5iD4"
      },
      "execution_count": 216,
      "outputs": []
    },
    {
      "cell_type": "code",
      "source": [
        "x"
      ],
      "metadata": {
        "colab": {
          "base_uri": "https://localhost:8080/"
        },
        "id": "-pwBZ7v-5jA1",
        "outputId": "b6d93709-b11f-49b6-843c-f965e0c713c3"
      },
      "execution_count": 217,
      "outputs": [
        {
          "output_type": "execute_result",
          "data": {
            "text/plain": [
              "array([[0, 1, 2, 3, 4],\n",
              "       [5, 6, 7, 8, 9]])"
            ]
          },
          "metadata": {},
          "execution_count": 217
        }
      ]
    },
    {
      "cell_type": "code",
      "source": [
        "y"
      ],
      "metadata": {
        "colab": {
          "base_uri": "https://localhost:8080/"
        },
        "id": "hcEONZR35kEj",
        "outputId": "4468e8e8-7f9b-4f16-fcd1-b57cacf6b5dd"
      },
      "execution_count": 218,
      "outputs": [
        {
          "output_type": "execute_result",
          "data": {
            "text/plain": [
              "array([[[0, 1],\n",
              "        [2, 3]],\n",
              "\n",
              "       [[4, 5],\n",
              "        [6, 7]]])"
            ]
          },
          "metadata": {},
          "execution_count": 218
        }
      ]
    },
    {
      "cell_type": "code",
      "source": [
        "x[:, :, np.newaxis]#行，列，加一个维度，加一个维度"
      ],
      "metadata": {
        "colab": {
          "base_uri": "https://localhost:8080/"
        },
        "id": "rSz6MjH_5zuJ",
        "outputId": "e905d229-9488-4dca-eb0b-dfcef1725925"
      },
      "execution_count": 237,
      "outputs": [
        {
          "output_type": "execute_result",
          "data": {
            "text/plain": [
              "array([[[0],\n",
              "        [1],\n",
              "        [2],\n",
              "        [3],\n",
              "        [4]],\n",
              "\n",
              "       [[5],\n",
              "        [6],\n",
              "        [7],\n",
              "        [8],\n",
              "        [9]]])"
            ]
          },
          "metadata": {},
          "execution_count": 237
        }
      ]
    },
    {
      "cell_type": "code",
      "source": [
        "x[:, :, np.newaxis, np.newaxis].shape#查看矩阵的维数"
      ],
      "metadata": {
        "colab": {
          "base_uri": "https://localhost:8080/"
        },
        "id": "jy_Am33Q_lr3",
        "outputId": "787d91ee-a083-44fa-f31d-e5e301c78a49"
      },
      "execution_count": 238,
      "outputs": [
        {
          "output_type": "execute_result",
          "data": {
            "text/plain": [
              "(2, 5, 1, 1)"
            ]
          },
          "metadata": {},
          "execution_count": 238
        }
      ]
    },
    {
      "cell_type": "code",
      "source": [
        "y[:, np.newaxis, :,:]"
      ],
      "metadata": {
        "colab": {
          "base_uri": "https://localhost:8080/"
        },
        "id": "u87PylzDBFiI",
        "outputId": "e61801b6-df7d-41e9-888f-b7daab6098e2"
      },
      "execution_count": 235,
      "outputs": [
        {
          "output_type": "execute_result",
          "data": {
            "text/plain": [
              "array([[[[0, 1],\n",
              "         [2, 3]]],\n",
              "\n",
              "\n",
              "       [[[4, 5],\n",
              "         [6, 7]]]])"
            ]
          },
          "metadata": {},
          "execution_count": 235
        }
      ]
    },
    {
      "cell_type": "code",
      "source": [
        "y[:, np.newaxis, :, :].shape"
      ],
      "metadata": {
        "colab": {
          "base_uri": "https://localhost:8080/"
        },
        "id": "z8uD8oejBS1E",
        "outputId": "ba207562-1893-421d-d49a-670f00ac1b45"
      },
      "execution_count": 236,
      "outputs": [
        {
          "output_type": "execute_result",
          "data": {
            "text/plain": [
              "(2, 1, 2, 2)"
            ]
          },
          "metadata": {},
          "execution_count": 236
        }
      ]
    },
    {
      "cell_type": "code",
      "source": [
        "a = np.arange(9).reshape(3, 3)\n",
        "a"
      ],
      "metadata": {
        "colab": {
          "base_uri": "https://localhost:8080/"
        },
        "id": "Wgy5j4HiCyc2",
        "outputId": "8e58c836-ffbe-4f9f-f737-8bf8ad4130c5"
      },
      "execution_count": 239,
      "outputs": [
        {
          "output_type": "execute_result",
          "data": {
            "text/plain": [
              "array([[0, 1, 2],\n",
              "       [3, 4, 5],\n",
              "       [6, 7, 8]])"
            ]
          },
          "metadata": {},
          "execution_count": 239
        }
      ]
    },
    {
      "cell_type": "code",
      "source": [
        "b = np.arange(3, 12).reshape(3, 3)\n",
        "b"
      ],
      "metadata": {
        "colab": {
          "base_uri": "https://localhost:8080/"
        },
        "id": "gOPdJIGdC0UP",
        "outputId": "a472e215-65fd-430a-8881-16c7a97cb529"
      },
      "execution_count": 240,
      "outputs": [
        {
          "output_type": "execute_result",
          "data": {
            "text/plain": [
              "array([[ 3,  4,  5],\n",
              "       [ 6,  7,  8],\n",
              "       [ 9, 10, 11]])"
            ]
          },
          "metadata": {},
          "execution_count": 240
        }
      ]
    },
    {
      "cell_type": "code",
      "source": [
        "a * b#每个元素相乘，并不是矩阵乘法"
      ],
      "metadata": {
        "colab": {
          "base_uri": "https://localhost:8080/"
        },
        "id": "Dh0wjTurC2i8",
        "outputId": "cede5b71-cb59-4181-d563-02370ff12528"
      },
      "execution_count": 241,
      "outputs": [
        {
          "output_type": "execute_result",
          "data": {
            "text/plain": [
              "array([[ 0,  4, 10],\n",
              "       [18, 28, 40],\n",
              "       [54, 70, 88]])"
            ]
          },
          "metadata": {},
          "execution_count": 241
        }
      ]
    },
    {
      "cell_type": "code",
      "source": [
        "np.dot(a,b)#矩阵乘法"
      ],
      "metadata": {
        "colab": {
          "base_uri": "https://localhost:8080/"
        },
        "id": "mUGo-e1fC7I1",
        "outputId": "9b55228e-3cd4-498e-fe01-d4ef53c83ea8"
      },
      "execution_count": 242,
      "outputs": [
        {
          "output_type": "execute_result",
          "data": {
            "text/plain": [
              "array([[ 24,  27,  30],\n",
              "       [ 78,  90, 102],\n",
              "       [132, 153, 174]])"
            ]
          },
          "metadata": {},
          "execution_count": 242
        }
      ]
    },
    {
      "cell_type": "code",
      "source": [
        "a.reshape(3, 3, 1) * b.reshape(1, 3, 3)"
      ],
      "metadata": {
        "colab": {
          "base_uri": "https://localhost:8080/"
        },
        "id": "1UvEY_egDbZv",
        "outputId": "b14eefb5-0c27-45ae-d6bd-53e6f821d4a7"
      },
      "execution_count": 243,
      "outputs": [
        {
          "output_type": "execute_result",
          "data": {
            "text/plain": [
              "array([[[ 0,  0,  0],\n",
              "        [ 6,  7,  8],\n",
              "        [18, 20, 22]],\n",
              "\n",
              "       [[ 9, 12, 15],\n",
              "        [24, 28, 32],\n",
              "        [45, 50, 55]],\n",
              "\n",
              "       [[18, 24, 30],\n",
              "        [42, 49, 56],\n",
              "        [72, 80, 88]]])"
            ]
          },
          "metadata": {},
          "execution_count": 243
        }
      ]
    },
    {
      "cell_type": "code",
      "source": [
        "(a.reshape(3, 3, 1) * b.reshape(1, 3, 3)).sum(1)"
      ],
      "metadata": {
        "colab": {
          "base_uri": "https://localhost:8080/"
        },
        "id": "gAzy9IkODokD",
        "outputId": "5cc5227d-59af-4361-b950-6df69ebd50fe"
      },
      "execution_count": 247,
      "outputs": [
        {
          "output_type": "execute_result",
          "data": {
            "text/plain": [
              "array([[ 24,  27,  30],\n",
              "       [ 78,  90, 102],\n",
              "       [132, 153, 174]])"
            ]
          },
          "metadata": {},
          "execution_count": 247
        }
      ]
    },
    {
      "cell_type": "code",
      "source": [
        "x = np.arange(50).reshape([10, 5])\n",
        "record_x = x.view(dtype={'names': [\"col1\", \"col2\", \"another\", \"more\", \"last\"], \n",
        "                         'formats': [int]*5 })\n",
        "record_x"
      ],
      "metadata": {
        "colab": {
          "base_uri": "https://localhost:8080/"
        },
        "id": "XcQ4lgrNECkv",
        "outputId": "7ad73d08-57ea-4155-f817-14a8619c1897"
      },
      "execution_count": 248,
      "outputs": [
        {
          "output_type": "execute_result",
          "data": {
            "text/plain": [
              "array([[( 0,  1,  2,  3,  4)],\n",
              "       [( 5,  6,  7,  8,  9)],\n",
              "       [(10, 11, 12, 13, 14)],\n",
              "       [(15, 16, 17, 18, 19)],\n",
              "       [(20, 21, 22, 23, 24)],\n",
              "       [(25, 26, 27, 28, 29)],\n",
              "       [(30, 31, 32, 33, 34)],\n",
              "       [(35, 36, 37, 38, 39)],\n",
              "       [(40, 41, 42, 43, 44)],\n",
              "       [(45, 46, 47, 48, 49)]],\n",
              "      dtype=[('col1', '<i8'), ('col2', '<i8'), ('another', '<i8'), ('more', '<i8'), ('last', '<i8')])"
            ]
          },
          "metadata": {},
          "execution_count": 248
        }
      ]
    },
    {
      "cell_type": "code",
      "source": [
        "record_x['col1']"
      ],
      "metadata": {
        "colab": {
          "base_uri": "https://localhost:8080/"
        },
        "id": "d2jnoiDkEErq",
        "outputId": "c6e1aab4-1013-4f79-d6aa-e148855383cf"
      },
      "execution_count": 249,
      "outputs": [
        {
          "output_type": "execute_result",
          "data": {
            "text/plain": [
              "array([[ 0],\n",
              "       [ 5],\n",
              "       [10],\n",
              "       [15],\n",
              "       [20],\n",
              "       [25],\n",
              "       [30],\n",
              "       [35],\n",
              "       [40],\n",
              "       [45]])"
            ]
          },
          "metadata": {},
          "execution_count": 249
        }
      ]
    }
  ]
}